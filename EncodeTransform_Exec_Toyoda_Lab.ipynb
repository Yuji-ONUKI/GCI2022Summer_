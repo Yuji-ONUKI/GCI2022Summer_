{
  "nbformat": 4,
  "nbformat_minor": 0,
  "metadata": {
    "colab": {
      "name": "EncodeTransform_Exec_Toyoda_Lab.ipynb",
      "provenance": [],
      "collapsed_sections": [],
      "toc_visible": true,
      "include_colab_link": true
    },
    "kernelspec": {
      "name": "python3",
      "display_name": "Python 3"
    },
    "language_info": {
      "name": "python"
    }
  },
  "cells": [
    {
      "cell_type": "markdown",
      "metadata": {
        "id": "view-in-github",
        "colab_type": "text"
      },
      "source": [
        "<a href=\"https://colab.research.google.com/github/Yuji-ONUKI/GCI2022Summer_/blob/main/EncodeTransform_Exec_Toyoda_Lab.ipynb\" target=\"_parent\"><img src=\"https://colab.research.google.com/assets/colab-badge.svg\" alt=\"Open In Colab\"/></a>"
      ]
    },
    {
      "cell_type": "markdown",
      "source": [
        "早稲田大学豊田研究室からRスクリプトをダウンロードし、文字コードをutf-8に変更します。\n"
      ],
      "metadata": {
        "id": "pyYEAzF8cA-1"
      }
    },
    {
      "cell_type": "markdown",
      "source": [
        "最初のセルを実行した後、必要な章のセルを実行してください。\n"
      ],
      "metadata": {
        "id": "nNQWMKSscO-T"
      }
    },
    {
      "cell_type": "code",
      "execution_count": null,
      "metadata": {
        "id": "CXvbKidNW7yI"
      },
      "outputs": [],
      "source": [
        "import requests\n",
        "url='http://www.waseda.jp/sem-toyoda-lab/data/%E6%94%BE%E9%80%81%E5%A4%A7%E5%AD%A6%E5%BF%83%E7%90%86%E7%B5%B1%E8%A8%8817.zip'\n",
        "response = requests.get(url)\n",
        "open(\"toyoda.zip\", \"wb\").write(response.content)\n",
        "!unzip -Ocp932 toyoda.zip\n",
        "!rm toyoda.zip\n",
        "!find /content/放送大学心理統計17/Astan219/myfunc -name \"*.R\" -exec bash -c 'echo {} && iconv -t utf8 -f cp932 {} > {}.new && mv {}.new {}' \\;\n",
        "!find /content/放送大学心理統計17/Astan219/scrB -name \"*.R\" -exec bash -c 'echo {} && iconv -t utf8 -f cp932 {} > {}.new && mv {}.new {}' \\;\n",
        "!find /content/放送大学心理統計17/Astan219/scrB -name \"*.csv\" -exec bash -c 'echo {} && iconv -t utf8 -f cp932 {} > {}.new && mv {}.new {}' \\;\n",
        "!find /content/放送大学心理統計17/Astan219/stan -name \"*.stan\" -exec bash -c 'echo {} && iconv -t utf8 -f cp932 {} > {}.new && mv {}.new {}' \\;\n",
        "!find /content/放送大学心理統計17/Astan219 -name \"*.txt\" -exec bash -c 'echo {} && iconv -t utf8 -f cp932 {} > {}.new && mv {}.new {}' \\;\n",
        "!zip -r ShinriTokei17.zip /content/放送大学心理統計17\n",
        "from google.colab import files\n",
        "files.download('ShinriTokei17.zip')\n",
        "!rm ShinriTokei17.zip"
      ]
    },
    {
      "cell_type": "markdown",
      "source": [
        "ここから、Rスクリプトを実行してみます。\n"
      ],
      "metadata": {
        "id": "HPgT-fLSjGH8"
      }
    },
    {
      "cell_type": "markdown",
      "source": [
        "# 第1章"
      ],
      "metadata": {
        "id": "HnsUHf5cnJva"
      }
    },
    {
      "cell_type": "code",
      "source": [
        "import rpy2\n",
        "%load_ext rpy2.ipython\n"
      ],
      "metadata": {
        "id": "e_J_hkvIe3c9"
      },
      "execution_count": null,
      "outputs": []
    },
    {
      "cell_type": "code",
      "source": [
        "%%R\n",
        "setwd('/content/放送大学心理統計17/Astan219')\n",
        "source(file='scrB/chapter01.R')"
      ],
      "metadata": {
        "id": "dHcNPSA7mpGs",
        "colab": {
          "base_uri": "https://localhost:8080/",
          "height": 497
        },
        "outputId": "0ab926a2-8d27-41e2-d5fb-ee6b987fb464"
      },
      "execution_count": null,
      "outputs": [
        {
          "output_type": "display_data",
          "data": {
            "image/png": "[encoded data removed]"
          },
          "metadata": {}
        }
      ]
    },
    {
      "cell_type": "markdown",
      "source": [
        "# 第２章"
      ],
      "metadata": {
        "id": "T3EOkjfOnPby"
      }
    },
    {
      "cell_type": "code",
      "source": [
        "import rpy2\n",
        "%load_ext rpy2.ipython\n"
      ],
      "metadata": {
        "id": "I0f2JDFVezyG"
      },
      "execution_count": null,
      "outputs": []
    },
    {
      "cell_type": "code",
      "source": [
        "%%R\n",
        "setwd('/content/放送大学心理統計17/Astan219')\n",
        "source(file='scrB/chapter02.R')"
      ],
      "metadata": {
        "id": "QpOpQ-TknUX4",
        "colab": {
          "base_uri": "https://localhost:8080/",
          "height": 497
        },
        "outputId": "0af16ae8-5651-4b6e-e02e-ab1ad0e9b6cd"
      },
      "execution_count": null,
      "outputs": [
        {
          "output_type": "display_data",
          "data": {
            "image/png": "[encoded data removed]"
          },
          "metadata": {}
        }
      ]
    },
    {
      "cell_type": "markdown",
      "source": [
        "# 第３章"
      ],
      "metadata": {
        "id": "_TCIkTMQneGS"
      }
    },
    {
      "cell_type": "code",
      "source": [
        "import rpy2\n",
        "%load_ext rpy2.ipython\n"
      ],
      "metadata": {
        "id": "b4-TFo15ewoM"
      },
      "execution_count": null,
      "outputs": []
    },
    {
      "cell_type": "code",
      "source": [
        "%%R\n",
        "setwd('/content/放送大学心理統計17/Astan219')\n",
        "install.packages('rstan')\n",
        "source(file='scrB/chapter03.R')"
      ],
      "metadata": {
        "id": "NjWDFDfInkJT"
      },
      "execution_count": null,
      "outputs": []
    },
    {
      "cell_type": "markdown",
      "source": [
        "# 第４章"
      ],
      "metadata": {
        "id": "AYjpW-QQoF5p"
      }
    },
    {
      "cell_type": "code",
      "source": [
        "import rpy2\n",
        "%load_ext rpy2.ipython\n"
      ],
      "metadata": {
        "id": "kRqymirzer71"
      },
      "execution_count": null,
      "outputs": []
    },
    {
      "cell_type": "code",
      "source": [
        "%%R\n",
        "setwd('/content/放送大学心理統計17/Astan219')\n",
        "install.packages('rstan')\n",
        "source(file='scrB/chapter04.R')"
      ],
      "metadata": {
        "id": "AjgOoT6woGzH"
      },
      "execution_count": null,
      "outputs": []
    },
    {
      "cell_type": "markdown",
      "source": [
        "# 第５章"
      ],
      "metadata": {
        "id": "wobLZQ_zoVh5"
      }
    },
    {
      "cell_type": "code",
      "source": [
        "import rpy2\n",
        "%load_ext rpy2.ipython\n"
      ],
      "metadata": {
        "id": "o8-bqVX0eoai"
      },
      "execution_count": null,
      "outputs": []
    },
    {
      "cell_type": "code",
      "source": [
        "%%R\n",
        "setwd('/content/放送大学心理統計17/Astan219')\n",
        "install.packages('rstan')\n",
        "source(file='scrB/chapter05.R')"
      ],
      "metadata": {
        "id": "Tx09skhlocd1"
      },
      "execution_count": null,
      "outputs": []
    },
    {
      "cell_type": "markdown",
      "source": [
        "# 第７章\n"
      ],
      "metadata": {
        "id": "ha3aLO-iolP4"
      }
    },
    {
      "cell_type": "code",
      "source": [
        "import rpy2\n",
        "%load_ext rpy2.ipython\n"
      ],
      "metadata": {
        "id": "tK1jrK30elVv"
      },
      "execution_count": null,
      "outputs": []
    },
    {
      "cell_type": "code",
      "source": [
        "%%R\n",
        "setwd('/content/放送大学心理統計17/Astan219')\n",
        "install.packages('rstan')\n",
        "source(file='scrB/chapter07.R')"
      ],
      "metadata": {
        "id": "HbOEhYBoosc0"
      },
      "execution_count": null,
      "outputs": []
    },
    {
      "cell_type": "markdown",
      "source": [
        "# 第９章\n"
      ],
      "metadata": {
        "id": "HKL3wGSHpGw9"
      }
    },
    {
      "cell_type": "code",
      "source": [
        "import rpy2\n",
        "%load_ext rpy2.ipython\n"
      ],
      "metadata": {
        "id": "XVSehKYPeiMx"
      },
      "execution_count": null,
      "outputs": []
    },
    {
      "cell_type": "code",
      "source": [
        "%%R\n",
        "setwd('/content/放送大学心理統計17/Astan219')\n",
        "install.packages('rstan')\n",
        "source(file='scrB/chapter09.R')"
      ],
      "metadata": {
        "id": "vP9ITryKpMP7"
      },
      "execution_count": null,
      "outputs": []
    },
    {
      "cell_type": "markdown",
      "source": [
        "# 第10章\n"
      ],
      "metadata": {
        "id": "Yw5sbtjcpcwc"
      }
    },
    {
      "cell_type": "code",
      "source": [
        "import rpy2\n",
        "%load_ext rpy2.ipython\n"
      ],
      "metadata": {
        "id": "z0ZhzmimeetS"
      },
      "execution_count": null,
      "outputs": []
    },
    {
      "cell_type": "code",
      "source": [
        "%%R\n",
        "setwd('/content/放送大学心理統計17/Astan219')\n",
        "install.packages('rstan')\n",
        "source(file='scrB/chapter10.R')"
      ],
      "metadata": {
        "id": "fBZZ29cNpg5d"
      },
      "execution_count": null,
      "outputs": []
    },
    {
      "cell_type": "markdown",
      "source": [
        "# 第11章\n"
      ],
      "metadata": {
        "id": "zTYBWo1Ypoxz"
      }
    },
    {
      "cell_type": "code",
      "source": [
        "import rpy2\n",
        "%load_ext rpy2.ipython\n"
      ],
      "metadata": {
        "id": "_QUlbV4FebPz"
      },
      "execution_count": null,
      "outputs": []
    },
    {
      "cell_type": "code",
      "source": [
        "%%R\n",
        "setwd('/content/放送大学心理統計17/Astan219')\n",
        "install.packages('rstan')\n",
        "source(file='scrB/chapter11.R')"
      ],
      "metadata": {
        "id": "4U4WZd-ppvfB"
      },
      "execution_count": null,
      "outputs": []
    },
    {
      "cell_type": "markdown",
      "source": [
        "# 第12章\n"
      ],
      "metadata": {
        "id": "drxrXrxfp15o"
      }
    },
    {
      "cell_type": "code",
      "source": [
        "import rpy2\n",
        "%load_ext rpy2.ipython\n"
      ],
      "metadata": {
        "id": "u0JNsEnneXRw"
      },
      "execution_count": null,
      "outputs": []
    },
    {
      "cell_type": "code",
      "source": [
        "%%R\n",
        "setwd('/content/放送大学心理統計17/Astan219')\n",
        "install.packages('rstan')\n",
        "source(file='scrB/chapter12.R')"
      ],
      "metadata": {
        "id": "XqWNSxbnp63m"
      },
      "execution_count": null,
      "outputs": []
    },
    {
      "cell_type": "markdown",
      "source": [
        "# 第13章\n"
      ],
      "metadata": {
        "id": "x1DYw6LgqAHK"
      }
    },
    {
      "cell_type": "code",
      "source": [
        "import rpy2\n",
        "%load_ext rpy2.ipython\n"
      ],
      "metadata": {
        "id": "JeV9cg5ReRqo"
      },
      "execution_count": null,
      "outputs": []
    },
    {
      "cell_type": "code",
      "source": [
        "%%R\n",
        "setwd('/content/放送大学心理統計17/Astan219')\n",
        "install.packages('rstan')\n",
        "source(file='scrB/chapter13.R')"
      ],
      "metadata": {
        "id": "MPPn0RGQqFLC",
        "colab": {
          "base_uri": "https://localhost:8080/"
        },
        "outputId": "e38f4a00-a3c4-4bdd-d8db-36801d90ed48"
      },
      "execution_count": null,
      "outputs": [
        {
          "output_type": "stream",
          "name": "stderr",
          "text": [
            "R[write to console]: Installing package into ‘/usr/local/lib/R/site-library’\n",
            "(as ‘lib’ is unspecified)\n",
            "\n",
            "R[write to console]: trying URL 'https://cran.rstudio.com/src/contrib/rstan_2.21.5.tar.gz'\n",
            "\n",
            "R[write to console]: Content type 'application/x-gzip'\n",
            "R[write to console]:  length 1189130 bytes (1.1 MB)\n",
            "\n",
            "R[write to console]: =\n",
            "R[write to console]: =\n",
            "R[write to console]: =\n",
            "R[write to console]: =\n",
            "R[write to console]: =\n",
            "R[write to console]: =\n",
            "R[write to console]: =\n",
            "R[write to console]: =\n",
            "R[write to console]: =\n",
            "R[write to console]: =\n",
            "R[write to console]: =\n",
            "R[write to console]: =\n",
            "R[write to console]: =\n",
            "R[write to console]: =\n",
            "R[write to console]: =\n",
            "R[write to console]: =\n",
            "R[write to console]: =\n",
            "R[write to console]: =\n",
            "R[write to console]: =\n",
            "R[write to console]: =\n",
            "R[write to console]: =\n",
            "R[write to console]: =\n",
            "R[write to console]: =\n",
            "R[write to console]: =\n",
            "R[write to console]: =\n",
            "R[write to console]: =\n",
            "R[write to console]: =\n",
            "R[write to console]: =\n",
            "R[write to console]: =\n",
            "R[write to console]: =\n",
            "R[write to console]: =\n",
            "R[write to console]: =\n",
            "R[write to console]: =\n",
            "R[write to console]: =\n",
            "R[write to console]: =\n",
            "R[write to console]: =\n",
            "R[write to console]: =\n",
            "R[write to console]: =\n",
            "R[write to console]: =\n",
            "R[write to console]: =\n",
            "R[write to console]: =\n",
            "R[write to console]: =\n",
            "R[write to console]: =\n",
            "R[write to console]: =\n",
            "R[write to console]: =\n",
            "R[write to console]: =\n",
            "R[write to console]: =\n",
            "R[write to console]: =\n",
            "R[write to console]: =\n",
            "R[write to console]: =\n",
            "R[write to console]: \n",
            "\n",
            "R[write to console]: downloaded 1.1 MB\n",
            "\n",
            "\n"
          ]
        }
      ]
    },
    {
      "cell_type": "markdown",
      "source": [
        "# 第14章\n"
      ],
      "metadata": {
        "id": "8aU1q6swqLVt"
      }
    },
    {
      "cell_type": "code",
      "source": [
        "import rpy2\n",
        "%load_ext rpy2.ipython\n"
      ],
      "metadata": {
        "id": "6jtJt4D7eMEf"
      },
      "execution_count": null,
      "outputs": []
    },
    {
      "cell_type": "code",
      "source": [
        "%%R\n",
        "setwd('/content/放送大学心理統計17/Astan219')\n",
        "install.packages('rstan')\n",
        "source(file='scrB/chapter14.R')"
      ],
      "metadata": {
        "colab": {
          "base_uri": "https://localhost:8080/",
          "height": 1000
        },
        "id": "fp71iU8PqP3p",
        "outputId": "842aab64-ed4e-4346-f964-ac4bc747f699"
      },
      "execution_count": 11,
      "outputs": [
        {
          "output_type": "stream",
          "name": "stderr",
          "text": [
            "R[write to console]: Installing package into ‘/usr/local/lib/R/site-library’\n",
            "(as ‘lib’ is unspecified)\n",
            "\n",
            "R[write to console]: also installing the dependencies ‘checkmate’, ‘matrixStats’, ‘StanHeaders’, ‘inline’, ‘gridExtra’, ‘Rcpp’, ‘RcppParallel’, ‘loo’, ‘RcppEigen’, ‘BH’\n",
            "\n",
            "\n",
            "R[write to console]: trying URL 'https://cran.rstudio.com/src/contrib/checkmate_2.1.0.tar.gz'\n",
            "\n",
            "R[write to console]: Content type 'application/x-gzip'\n",
            "R[write to console]:  length 170034 bytes (166 KB)\n",
            "\n",
            "R[write to console]: =\n",
            "R[write to console]: =\n",
            "R[write to console]: =\n",
            "R[write to console]: =\n",
            "R[write to console]: =\n",
            "R[write to console]: =\n",
            "R[write to console]: =\n",
            "R[write to console]: =\n",
            "R[write to console]: =\n",
            "R[write to console]: =\n",
            "R[write to console]: =\n",
            "R[write to console]: =\n",
            "R[write to console]: =\n",
            "R[write to console]: =\n",
            "R[write to console]: =\n",
            "R[write to console]: =\n",
            "R[write to console]: =\n",
            "R[write to console]: =\n",
            "R[write to console]: =\n",
            "R[write to console]: =\n",
            "R[write to console]: =\n",
            "R[write to console]: =\n",
            "R[write to console]: =\n",
            "R[write to console]: =\n",
            "R[write to console]: =\n",
            "R[write to console]: =\n",
            "R[write to console]: =\n",
            "R[write to console]: =\n",
            "R[write to console]: =\n",
            "R[write to console]: =\n",
            "R[write to console]: =\n",
            "R[write to console]: =\n",
            "R[write to console]: =\n",
            "R[write to console]: =\n",
            "R[write to console]: =\n",
            "R[write to console]: =\n",
            "R[write to console]: =\n",
            "R[write to console]: =\n",
            "R[write to console]: =\n",
            "R[write to console]: =\n",
            "R[write to console]: =\n",
            "R[write to console]: =\n",
            "R[write to console]: =\n",
            "R[write to console]: =\n",
            "R[write to console]: =\n",
            "R[write to console]: =\n",
            "R[write to console]: =\n",
            "R[write to console]: =\n",
            "R[write to console]: =\n",
            "R[write to console]: =\n",
            "R[write to console]: \n",
            "\n",
            "R[write to console]: downloaded 166 KB\n",
            "\n",
            "\n",
            "R[write to console]: trying URL 'https://cran.rstudio.com/src/contrib/matrixStats_0.62.0.tar.gz'\n",
            "\n",
            "R[write to console]: Content type 'application/x-gzip'\n",
            "R[write to console]:  length 201651 bytes (196 KB)\n",
            "\n",
            "R[write to console]: =\n",
            "R[write to console]: =\n",
            "R[write to console]: =\n",
            "R[write to console]: =\n",
            "R[write to console]: =\n",
            "R[write to console]: =\n",
            "R[write to console]: =\n",
            "R[write to console]: =\n",
            "R[write to console]: =\n",
            "R[write to console]: =\n",
            "R[write to console]: =\n",
            "R[write to console]: =\n",
            "R[write to console]: =\n",
            "R[write to console]: =\n",
            "R[write to console]: =\n",
            "R[write to console]: =\n",
            "R[write to console]: =\n",
            "R[write to console]: =\n",
            "R[write to console]: =\n",
            "R[write to console]: =\n",
            "R[write to console]: =\n",
            "R[write to console]: =\n",
            "R[write to console]: =\n",
            "R[write to console]: =\n",
            "R[write to console]: =\n",
            "R[write to console]: =\n",
            "R[write to console]: =\n",
            "R[write to console]: =\n",
            "R[write to console]: =\n",
            "R[write to console]: =\n",
            "R[write to console]: =\n",
            "R[write to console]: =\n",
            "R[write to console]: =\n",
            "R[write to console]: =\n",
            "R[write to console]: =\n",
            "R[write to console]: =\n",
            "R[write to console]: =\n",
            "R[write to console]: =\n",
            "R[write to console]: =\n",
            "R[write to console]: =\n",
            "R[write to console]: =\n",
            "R[write to console]: =\n",
            "R[write to console]: =\n",
            "R[write to console]: =\n",
            "R[write to console]: =\n",
            "R[write to console]: =\n",
            "R[write to console]: =\n",
            "R[write to console]: =\n",
            "R[write to console]: =\n",
            "R[write to console]: =\n",
            "R[write to console]: \n",
            "\n",
            "R[write to console]: downloaded 196 KB\n",
            "\n",
            "\n",
            "R[write to console]: trying URL 'https://cran.rstudio.com/src/contrib/StanHeaders_2.21.0-7.tar.gz'\n",
            "\n",
            "R[write to console]: Content type 'application/x-gzip'\n",
            "R[write to console]:  length 1402572 bytes (1.3 MB)\n",
            "\n",
            "R[write to console]: =\n",
            "R[write to console]: =\n",
            "R[write to console]: =\n",
            "R[write to console]: =\n",
            "R[write to console]: =\n",
            "R[write to console]: =\n",
            "R[write to console]: =\n",
            "R[write to console]: =\n",
            "R[write to console]: =\n",
            "R[write to console]: =\n",
            "R[write to console]: =\n",
            "R[write to console]: =\n",
            "R[write to console]: =\n",
            "R[write to console]: =\n",
            "R[write to console]: =\n",
            "R[write to console]: =\n",
            "R[write to console]: =\n",
            "R[write to console]: =\n",
            "R[write to console]: =\n",
            "R[write to console]: =\n",
            "R[write to console]: =\n",
            "R[write to console]: =\n",
            "R[write to console]: =\n",
            "R[write to console]: =\n",
            "R[write to console]: =\n",
            "R[write to console]: =\n",
            "R[write to console]: =\n",
            "R[write to console]: =\n",
            "R[write to console]: =\n",
            "R[write to console]: =\n",
            "R[write to console]: =\n",
            "R[write to console]: =\n",
            "R[write to console]: =\n",
            "R[write to console]: =\n",
            "R[write to console]: =\n",
            "R[write to console]: =\n",
            "R[write to console]: =\n",
            "R[write to console]: =\n",
            "R[write to console]: =\n",
            "R[write to console]: =\n",
            "R[write to console]: =\n",
            "R[write to console]: =\n",
            "R[write to console]: =\n",
            "R[write to console]: =\n",
            "R[write to console]: =\n",
            "R[write to console]: =\n",
            "R[write to console]: =\n",
            "R[write to console]: =\n",
            "R[write to console]: =\n",
            "R[write to console]: =\n",
            "R[write to console]: \n",
            "\n",
            "R[write to console]: downloaded 1.3 MB\n",
            "\n",
            "\n",
            "R[write to console]: trying URL 'https://cran.rstudio.com/src/contrib/inline_0.3.19.tar.gz'\n",
            "\n",
            "R[write to console]: Content type 'application/x-gzip'\n",
            "R[write to console]:  length 25074 bytes (24 KB)\n",
            "\n",
            "R[write to console]: =\n",
            "R[write to console]: =\n",
            "R[write to console]: =\n",
            "R[write to console]: =\n",
            "R[write to console]: =\n",
            "R[write to console]: =\n",
            "R[write to console]: =\n",
            "R[write to console]: =\n",
            "R[write to console]: =\n",
            "R[write to console]: =\n",
            "R[write to console]: =\n",
            "R[write to console]: =\n",
            "R[write to console]: =\n",
            "R[write to console]: =\n",
            "R[write to console]: =\n",
            "R[write to console]: =\n",
            "R[write to console]: =\n",
            "R[write to console]: =\n",
            "R[write to console]: =\n",
            "R[write to console]: =\n",
            "R[write to console]: =\n",
            "R[write to console]: =\n",
            "R[write to console]: =\n",
            "R[write to console]: =\n",
            "R[write to console]: =\n",
            "R[write to console]: =\n",
            "R[write to console]: =\n",
            "R[write to console]: =\n",
            "R[write to console]: =\n",
            "R[write to console]: =\n",
            "R[write to console]: =\n",
            "R[write to console]: =\n",
            "R[write to console]: =\n",
            "R[write to console]: =\n",
            "R[write to console]: =\n",
            "R[write to console]: =\n",
            "R[write to console]: =\n",
            "R[write to console]: =\n",
            "R[write to console]: =\n",
            "R[write to console]: =\n",
            "R[write to console]: =\n",
            "R[write to console]: =\n",
            "R[write to console]: =\n",
            "R[write to console]: =\n",
            "R[write to console]: =\n",
            "R[write to console]: =\n",
            "R[write to console]: =\n",
            "R[write to console]: =\n",
            "R[write to console]: =\n",
            "R[write to console]: =\n",
            "R[write to console]: \n",
            "\n",
            "R[write to console]: downloaded 24 KB\n",
            "\n",
            "\n",
            "R[write to console]: trying URL 'https://cran.rstudio.com/src/contrib/gridExtra_2.3.tar.gz'\n",
            "\n",
            "R[write to console]: Content type 'application/x-gzip'\n",
            "R[write to console]:  length 1062844 bytes (1.0 MB)\n",
            "\n",
            "R[write to console]: =\n",
            "R[write to console]: =\n",
            "R[write to console]: =\n",
            "R[write to console]: =\n",
            "R[write to console]: =\n",
            "R[write to console]: =\n",
            "R[write to console]: =\n",
            "R[write to console]: =\n",
            "R[write to console]: =\n",
            "R[write to console]: =\n",
            "R[write to console]: =\n",
            "R[write to console]: =\n",
            "R[write to console]: =\n",
            "R[write to console]: =\n",
            "R[write to console]: =\n",
            "R[write to console]: =\n",
            "R[write to console]: =\n",
            "R[write to console]: =\n",
            "R[write to console]: =\n",
            "R[write to console]: =\n",
            "R[write to console]: =\n",
            "R[write to console]: =\n",
            "R[write to console]: =\n",
            "R[write to console]: =\n",
            "R[write to console]: =\n",
            "R[write to console]: =\n",
            "R[write to console]: =\n",
            "R[write to console]: =\n",
            "R[write to console]: =\n",
            "R[write to console]: =\n",
            "R[write to console]: =\n",
            "R[write to console]: =\n",
            "R[write to console]: =\n",
            "R[write to console]: =\n",
            "R[write to console]: =\n",
            "R[write to console]: =\n",
            "R[write to console]: =\n",
            "R[write to console]: =\n",
            "R[write to console]: =\n",
            "R[write to console]: =\n",
            "R[write to console]: =\n",
            "R[write to console]: =\n",
            "R[write to console]: =\n",
            "R[write to console]: =\n",
            "R[write to console]: =\n",
            "R[write to console]: =\n",
            "R[write to console]: =\n",
            "R[write to console]: =\n",
            "R[write to console]: =\n",
            "R[write to console]: =\n",
            "R[write to console]: \n",
            "\n",
            "R[write to console]: downloaded 1.0 MB\n",
            "\n",
            "\n",
            "R[write to console]: trying URL 'https://cran.rstudio.com/src/contrib/Rcpp_1.0.8.3.tar.gz'\n",
            "\n",
            "R[write to console]: Content type 'application/x-gzip'\n",
            "R[write to console]:  length 3086192 bytes (2.9 MB)\n",
            "\n",
            "R[write to console]: =\n",
            "R[write to console]: =\n",
            "R[write to console]: =\n",
            "R[write to console]: =\n",
            "R[write to console]: =\n",
            "R[write to console]: =\n",
            "R[write to console]: =\n",
            "R[write to console]: =\n",
            "R[write to console]: =\n",
            "R[write to console]: =\n",
            "R[write to console]: =\n",
            "R[write to console]: =\n",
            "R[write to console]: =\n",
            "R[write to console]: =\n",
            "R[write to console]: =\n",
            "R[write to console]: =\n",
            "R[write to console]: =\n",
            "R[write to console]: =\n",
            "R[write to console]: =\n",
            "R[write to console]: =\n",
            "R[write to console]: =\n",
            "R[write to console]: =\n",
            "R[write to console]: =\n",
            "R[write to console]: =\n",
            "R[write to console]: =\n",
            "R[write to console]: =\n",
            "R[write to console]: =\n",
            "R[write to console]: =\n",
            "R[write to console]: =\n",
            "R[write to console]: =\n",
            "R[write to console]: =\n",
            "R[write to console]: =\n",
            "R[write to console]: =\n",
            "R[write to console]: =\n",
            "R[write to console]: =\n",
            "R[write to console]: =\n",
            "R[write to console]: =\n",
            "R[write to console]: =\n",
            "R[write to console]: =\n",
            "R[write to console]: =\n",
            "R[write to console]: =\n",
            "R[write to console]: =\n",
            "R[write to console]: =\n",
            "R[write to console]: =\n",
            "R[write to console]: =\n",
            "R[write to console]: =\n",
            "R[write to console]: =\n",
            "R[write to console]: =\n",
            "R[write to console]: =\n",
            "R[write to console]: =\n",
            "R[write to console]: \n",
            "\n",
            "R[write to console]: downloaded 2.9 MB\n",
            "\n",
            "\n",
            "R[write to console]: trying URL 'https://cran.rstudio.com/src/contrib/RcppParallel_5.1.5.tar.gz'\n",
            "\n",
            "R[write to console]: Content type 'application/x-gzip'\n",
            "R[write to console]:  length 1967672 bytes (1.9 MB)\n",
            "\n",
            "R[write to console]: =\n",
            "R[write to console]: =\n",
            "R[write to console]: =\n",
            "R[write to console]: =\n",
            "R[write to console]: =\n",
            "R[write to console]: =\n",
            "R[write to console]: =\n",
            "R[write to console]: =\n",
            "R[write to console]: =\n",
            "R[write to console]: =\n",
            "R[write to console]: =\n",
            "R[write to console]: =\n",
            "R[write to console]: =\n",
            "R[write to console]: =\n",
            "R[write to console]: =\n",
            "R[write to console]: =\n",
            "R[write to console]: =\n",
            "R[write to console]: =\n",
            "R[write to console]: =\n",
            "R[write to console]: =\n",
            "R[write to console]: =\n",
            "R[write to console]: =\n",
            "R[write to console]: =\n",
            "R[write to console]: =\n",
            "R[write to console]: =\n",
            "R[write to console]: =\n",
            "R[write to console]: =\n",
            "R[write to console]: =\n",
            "R[write to console]: =\n",
            "R[write to console]: =\n",
            "R[write to console]: =\n",
            "R[write to console]: =\n",
            "R[write to console]: =\n",
            "R[write to console]: =\n",
            "R[write to console]: =\n",
            "R[write to console]: =\n",
            "R[write to console]: =\n",
            "R[write to console]: =\n",
            "R[write to console]: =\n",
            "R[write to console]: =\n",
            "R[write to console]: =\n",
            "R[write to console]: =\n",
            "R[write to console]: =\n",
            "R[write to console]: =\n",
            "R[write to console]: =\n",
            "R[write to console]: =\n",
            "R[write to console]: =\n",
            "R[write to console]: =\n",
            "R[write to console]: =\n",
            "R[write to console]: =\n",
            "R[write to console]: \n",
            "\n",
            "R[write to console]: downloaded 1.9 MB\n",
            "\n",
            "\n",
            "R[write to console]: trying URL 'https://cran.rstudio.com/src/contrib/loo_2.5.1.tar.gz'\n",
            "\n",
            "R[write to console]: Content type 'application/x-gzip'\n",
            "R[write to console]:  length 2606977 bytes (2.5 MB)\n",
            "\n",
            "R[write to console]: =\n",
            "R[write to console]: =\n",
            "R[write to console]: =\n",
            "R[write to console]: =\n",
            "R[write to console]: =\n",
            "R[write to console]: =\n",
            "R[write to console]: =\n",
            "R[write to console]: =\n",
            "R[write to console]: =\n",
            "R[write to console]: =\n",
            "R[write to console]: =\n",
            "R[write to console]: =\n",
            "R[write to console]: =\n",
            "R[write to console]: =\n",
            "R[write to console]: =\n",
            "R[write to console]: =\n",
            "R[write to console]: =\n",
            "R[write to console]: =\n",
            "R[write to console]: =\n",
            "R[write to console]: =\n",
            "R[write to console]: =\n",
            "R[write to console]: =\n",
            "R[write to console]: =\n",
            "R[write to console]: =\n",
            "R[write to console]: =\n",
            "R[write to console]: =\n",
            "R[write to console]: =\n",
            "R[write to console]: =\n",
            "R[write to console]: =\n",
            "R[write to console]: =\n",
            "R[write to console]: =\n",
            "R[write to console]: =\n",
            "R[write to console]: =\n",
            "R[write to console]: =\n",
            "R[write to console]: =\n",
            "R[write to console]: =\n",
            "R[write to console]: =\n",
            "R[write to console]: =\n",
            "R[write to console]: =\n",
            "R[write to console]: =\n",
            "R[write to console]: =\n",
            "R[write to console]: =\n",
            "R[write to console]: =\n",
            "R[write to console]: =\n",
            "R[write to console]: =\n",
            "R[write to console]: =\n",
            "R[write to console]: =\n",
            "R[write to console]: =\n",
            "R[write to console]: =\n",
            "R[write to console]: =\n",
            "R[write to console]: \n",
            "\n",
            "R[write to console]: downloaded 2.5 MB\n",
            "\n",
            "\n",
            "R[write to console]: trying URL 'https://cran.rstudio.com/src/contrib/RcppEigen_0.3.3.9.2.tar.gz'\n",
            "\n",
            "R[write to console]: Content type 'application/x-gzip'\n",
            "R[write to console]:  length 1476004 bytes (1.4 MB)\n",
            "\n",
            "R[write to console]: =\n",
            "R[write to console]: =\n",
            "R[write to console]: =\n",
            "R[write to console]: =\n",
            "R[write to console]: =\n",
            "R[write to console]: =\n",
            "R[write to console]: =\n",
            "R[write to console]: =\n",
            "R[write to console]: =\n",
            "R[write to console]: =\n",
            "R[write to console]: =\n",
            "R[write to console]: =\n",
            "R[write to console]: =\n",
            "R[write to console]: =\n",
            "R[write to console]: =\n",
            "R[write to console]: =\n",
            "R[write to console]: =\n",
            "R[write to console]: =\n",
            "R[write to console]: =\n",
            "R[write to console]: =\n",
            "R[write to console]: =\n",
            "R[write to console]: =\n",
            "R[write to console]: =\n",
            "R[write to console]: =\n",
            "R[write to console]: =\n",
            "R[write to console]: =\n",
            "R[write to console]: =\n",
            "R[write to console]: =\n",
            "R[write to console]: =\n",
            "R[write to console]: =\n",
            "R[write to console]: =\n",
            "R[write to console]: =\n",
            "R[write to console]: =\n",
            "R[write to console]: =\n",
            "R[write to console]: =\n",
            "R[write to console]: =\n",
            "R[write to console]: =\n",
            "R[write to console]: =\n",
            "R[write to console]: =\n",
            "R[write to console]: =\n",
            "R[write to console]: =\n",
            "R[write to console]: =\n",
            "R[write to console]: =\n",
            "R[write to console]: =\n",
            "R[write to console]: =\n",
            "R[write to console]: =\n",
            "R[write to console]: =\n",
            "R[write to console]: =\n",
            "R[write to console]: =\n",
            "R[write to console]: =\n",
            "R[write to console]: \n",
            "\n",
            "R[write to console]: downloaded 1.4 MB\n",
            "\n",
            "\n",
            "R[write to console]: trying URL 'https://cran.rstudio.com/src/contrib/BH_1.78.0-0.tar.gz'\n",
            "\n",
            "R[write to console]: Content type 'application/x-gzip'\n",
            "R[write to console]:  length 13269768 bytes (12.7 MB)\n",
            "\n",
            "R[write to console]: =\n",
            "R[write to console]: =\n",
            "R[write to console]: =\n",
            "R[write to console]: =\n",
            "R[write to console]: =\n",
            "R[write to console]: =\n",
            "R[write to console]: =\n",
            "R[write to console]: =\n",
            "R[write to console]: =\n",
            "R[write to console]: =\n",
            "R[write to console]: =\n",
            "R[write to console]: =\n",
            "R[write to console]: =\n",
            "R[write to console]: =\n",
            "R[write to console]: =\n",
            "R[write to console]: =\n",
            "R[write to console]: =\n",
            "R[write to console]: =\n",
            "R[write to console]: =\n",
            "R[write to console]: =\n",
            "R[write to console]: =\n",
            "R[write to console]: =\n",
            "R[write to console]: =\n",
            "R[write to console]: =\n",
            "R[write to console]: =\n",
            "R[write to console]: =\n",
            "R[write to console]: =\n",
            "R[write to console]: =\n",
            "R[write to console]: =\n",
            "R[write to console]: =\n",
            "R[write to console]: =\n",
            "R[write to console]: =\n",
            "R[write to console]: =\n",
            "R[write to console]: =\n",
            "R[write to console]: =\n",
            "R[write to console]: =\n",
            "R[write to console]: =\n",
            "R[write to console]: =\n",
            "R[write to console]: =\n",
            "R[write to console]: =\n",
            "R[write to console]: =\n",
            "R[write to console]: =\n",
            "R[write to console]: =\n",
            "R[write to console]: =\n",
            "R[write to console]: =\n",
            "R[write to console]: =\n",
            "R[write to console]: =\n",
            "R[write to console]: =\n",
            "R[write to console]: =\n",
            "R[write to console]: =\n",
            "R[write to console]: \n",
            "\n",
            "R[write to console]: downloaded 12.7 MB\n",
            "\n",
            "\n",
            "R[write to console]: trying URL 'https://cran.rstudio.com/src/contrib/rstan_2.21.5.tar.gz'\n",
            "\n",
            "R[write to console]: Content type 'application/x-gzip'\n",
            "R[write to console]:  length 1189130 bytes (1.1 MB)\n",
            "\n",
            "R[write to console]: =\n",
            "R[write to console]: =\n",
            "R[write to console]: =\n",
            "R[write to console]: =\n",
            "R[write to console]: =\n",
            "R[write to console]: =\n",
            "R[write to console]: =\n",
            "R[write to console]: =\n",
            "R[write to console]: =\n",
            "R[write to console]: =\n",
            "R[write to console]: =\n",
            "R[write to console]: =\n",
            "R[write to console]: =\n",
            "R[write to console]: =\n",
            "R[write to console]: =\n",
            "R[write to console]: =\n",
            "R[write to console]: =\n",
            "R[write to console]: =\n",
            "R[write to console]: =\n",
            "R[write to console]: =\n",
            "R[write to console]: =\n",
            "R[write to console]: =\n",
            "R[write to console]: =\n",
            "R[write to console]: =\n",
            "R[write to console]: =\n",
            "R[write to console]: =\n",
            "R[write to console]: =\n",
            "R[write to console]: =\n",
            "R[write to console]: =\n",
            "R[write to console]: =\n",
            "R[write to console]: =\n",
            "R[write to console]: =\n",
            "R[write to console]: =\n",
            "R[write to console]: =\n",
            "R[write to console]: =\n",
            "R[write to console]: =\n",
            "R[write to console]: =\n",
            "R[write to console]: =\n",
            "R[write to console]: =\n",
            "R[write to console]: =\n",
            "R[write to console]: =\n",
            "R[write to console]: =\n",
            "R[write to console]: =\n",
            "R[write to console]: =\n",
            "R[write to console]: =\n",
            "R[write to console]: =\n",
            "R[write to console]: =\n",
            "R[write to console]: =\n",
            "R[write to console]: =\n",
            "R[write to console]: =\n",
            "R[write to console]: \n",
            "\n",
            "R[write to console]: downloaded 1.1 MB\n",
            "\n",
            "\n",
            "R[write to console]: \n",
            "\n",
            "R[write to console]: \n",
            "R[write to console]: The downloaded source packages are in\n",
            "\t‘/tmp/RtmpR1yaHk/downloaded_packages’\n",
            "R[write to console]: \n",
            "R[write to console]: \n",
            "\n",
            "R[write to console]: Loading required package: StanHeaders\n",
            "\n",
            "R[write to console]: Loading required package: ggplot2\n",
            "\n",
            "R[write to console]: rstan (Version 2.21.5, GitRev: 2e1f913d3ca3)\n",
            "\n",
            "R[write to console]: For execution on a local, multicore CPU with excess RAM we recommend calling\n",
            "options(mc.cores = parallel::detectCores()).\n",
            "To avoid recompilation of unchanged Stan programs, we recommend calling\n",
            "rstan_options(auto_write = TRUE)\n",
            "\n"
          ]
        },
        {
          "output_type": "stream",
          "name": "stdout",
          "text": [
            "Inference for Stan model: Reg.\n",
            "5 chains, each with iter=21000; warmup=1000; thin=1; \n",
            "post-warmup draws per chain=20000, total post-warmup draws=1e+05.\n",
            "\n",
            "              mean se_mean      sd       2.5%         5%        50%        95%\n",
            "a          0.54737 0.01494 2.99910   -5.36392   -4.38193    0.54830    5.47620\n",
            "b[1]       0.00054 0.00001 0.00143   -0.00229   -0.00183    0.00054    0.00290\n",
            "b[2]       0.01733 0.00001 0.00301    0.01141    0.01237    0.01733    0.02224\n",
            "b[3]      -0.00151 0.00002 0.00361   -0.00859   -0.00742   -0.00152    0.00440\n",
            "b[4]       0.01384 0.00003 0.00650    0.00111    0.00325    0.01383    0.02456\n",
            "sigma      2.31162 0.00127 0.26339    1.86686    1.92550    2.28772    2.78109\n",
            "r2         0.75044 0.00022 0.05271    0.62862    0.65432    0.75719    0.82415\n",
            "r          0.86572 0.00013 0.03095    0.79285    0.80890    0.87016    0.90783\n",
            "log_lik -105.28464 0.01042 1.89275 -109.89701 -108.88992 -104.92989 -102.90311\n",
            "             97.5% n_eff    Rhat\n",
            "a          6.43709 40311 1.00005\n",
            "b[1]       0.00337 38326 1.00006\n",
            "b[2]       0.02323 62707 1.00002\n",
            "b[3]       0.00561 51911 1.00006\n",
            "b[4]       0.02672 46121 1.00006\n",
            "sigma      2.89654 42925 1.00020\n",
            "r2         0.83396 56229 1.00020\n",
            "r          0.91321 55942 1.00020\n",
            "log_lik -102.68594 33009 1.00010\n",
            "\n",
            "Samples were drawn using NUTS(diag_e) at Wed Jun 15 22:24:18 2022.\n",
            "For each parameter, n_eff is a crude measure of effective sample size,\n",
            "and Rhat is the potential scale reduction factor on split chains (at \n",
            "convergence, Rhat=1).\n",
            "標準偏回帰係数と重相関\n",
            "        EAP post.sd    0.025     0.05      0.5    0.95   0.975\n",
            "b1  0.05935 0.15874 -0.25316 -0.20222  0.05934 0.32111 0.37293\n",
            "b2  0.74256 0.12878  0.48905  0.53011  0.74278 0.95320 0.99537\n",
            "b3 -0.05329 0.12724 -0.30273 -0.26144 -0.05340 0.15501 0.19785\n",
            "b4  0.22752 0.10691  0.01831  0.05336  0.22732 0.40372 0.43907\n",
            "情報量規準\n",
            "[1] \"waic=215.61464\"\n",
            "Inference for Stan model: Reg.\n",
            "5 chains, each with iter=21000; warmup=1000; thin=1; \n",
            "post-warmup draws per chain=20000, total post-warmup draws=1e+05.\n",
            "\n",
            "            mean se_mean    sd     2.5%       5%      50%      95%    97.5%\n",
            "a          1.571   0.003 0.681    0.233    0.449    1.569    2.683    2.906\n",
            "b[1]       0.017   0.000 0.002    0.013    0.014    0.017    0.020    0.021\n",
            "b[2]       0.016   0.000 0.005    0.006    0.007    0.016    0.024    0.025\n",
            "sigma      2.263   0.001 0.250    1.835    1.894    2.242    2.705    2.810\n",
            "r2         0.755   0.000 0.051    0.637    0.662    0.761    0.828    0.837\n",
            "r          0.869   0.000 0.030    0.798    0.814    0.873    0.910    0.915\n",
            "log_lik -104.271   0.008 1.503 -108.075 -107.190 -103.928 -102.520 -102.399\n",
            "        n_eff Rhat\n",
            "a       50415    1\n",
            "b[1]    74679    1\n",
            "b[2]    59561    1\n",
            "sigma   51712    1\n",
            "r2      52774    1\n",
            "r       52160    1\n",
            "log_lik 34024    1\n",
            "\n",
            "Samples were drawn using NUTS(diag_e) at Wed Jun 15 22:24:31 2022.\n",
            "For each parameter, n_eff is a crude measure of effective sample size,\n",
            "and Rhat is the potential scale reduction factor on split chains (at \n",
            "convergence, Rhat=1).\n",
            "標準偏回帰係数と重相関\n",
            "     EAP post.sd 0.025  0.05   0.5  0.95 0.975\n",
            "b1 0.737   0.082 0.576 0.603 0.737 0.871 0.898\n",
            "b2 0.255   0.082 0.093 0.120 0.255 0.390 0.418\n",
            "情報量規準\n",
            "[1] \"waic=211.704\"\n",
            "Inference for Stan model: Reg.\n",
            "5 chains, each with iter=21000; warmup=1000; thin=1; \n",
            "post-warmup draws per chain=20000, total post-warmup draws=1e+05.\n",
            "\n",
            "            mean se_mean    sd     2.5%       5%      50%      95%    97.5%\n",
            "a          1.571   0.003 0.681    0.233    0.449    1.569    2.683    2.906\n",
            "b[1]       0.017   0.000 0.002    0.013    0.014    0.017    0.020    0.021\n",
            "b[2]       0.016   0.000 0.005    0.006    0.007    0.016    0.024    0.025\n",
            "sigma      2.263   0.001 0.250    1.835    1.894    2.242    2.705    2.810\n",
            "r2         0.755   0.000 0.051    0.637    0.662    0.761    0.828    0.837\n",
            "r          0.869   0.000 0.030    0.798    0.814    0.873    0.910    0.915\n",
            "log_lik -104.271   0.008 1.503 -108.075 -107.190 -103.928 -102.520 -102.399\n",
            "        n_eff Rhat\n",
            "a       50415    1\n",
            "b[1]    74679    1\n",
            "b[2]    59561    1\n",
            "sigma   51712    1\n",
            "r2      52774    1\n",
            "r       52160    1\n",
            "log_lik 34024    1\n",
            "\n",
            "Samples were drawn using NUTS(diag_e) at Wed Jun 15 22:24:31 2022.\n",
            "For each parameter, n_eff is a crude measure of effective sample size,\n",
            "and Rhat is the potential scale reduction factor on split chains (at \n",
            "convergence, Rhat=1).\n",
            "標準偏回帰係数と重相関\n",
            "     EAP post.sd 0.025  0.05   0.5  0.95 0.975\n",
            "b1 0.737   0.082 0.576 0.603 0.737 0.871 0.898\n",
            "b2 0.255   0.082 0.093 0.120 0.255 0.390 0.418\n",
            "情報量規準\n",
            "[1] \"waic=211.704\"\n",
            "回帰式の事後分布\n",
            "       EAP post.sd 0.025  0.05   0.5  0.95 0.975\n",
            "[1,] 1.571   0.681 0.233 0.449 1.569 2.683 2.906\n",
            "[2,] 6.733   0.635 5.483 5.690 6.733 7.774 7.984\n",
            "[3,] 3.124   0.656 1.836 2.046 3.121 4.198 4.408\n",
            "[4,] 4.928   0.455 4.030 4.180 4.929 5.675 5.826\n",
            "基準変数の予測分布\n",
            "       EAP    sd  0.025   0.05   0.5   0.95  0.975\n",
            "[1,] 1.577 2.382 -3.106 -2.338 1.573  5.472  6.259\n",
            "[2,] 6.725 2.364  2.062  2.839 6.729 10.605 11.347\n",
            "[3,] 3.130 2.368 -1.508 -0.747 3.122  7.039  7.797\n",
            "[4,] 4.926 2.323  0.328  1.109 4.922  8.739  9.488\n"
          ]
        },
        {
          "output_type": "display_data",
          "data": {
            "image/png": "[encoded data removed]"
          },
          "metadata": {}
        },
        {
          "output_type": "display_data",
          "data": {
            "image/png": "[encoded data removed]"
          },
          "metadata": {}
        }
      ]
    }
  ]
}