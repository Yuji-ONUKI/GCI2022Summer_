{
  "nbformat": 4,
  "nbformat_minor": 0,
  "metadata": {
    "colab": {
      "name": "EncodeTransform_Exec_Toyoda_Lab.ipynb",
      "provenance": [],
      "authorship_tag": "ABX9TyO3gRNqpu7IXEhH632KxK2/",
      "include_colab_link": true
    },
    "kernelspec": {
      "name": "python3",
      "display_name": "Python 3"
    },
    "language_info": {
      "name": "python"
    }
  },
  "cells": [
    {
      "cell_type": "markdown",
      "metadata": {
        "id": "view-in-github",
        "colab_type": "text"
      },
      "source": [
        "<a href=\"https://colab.research.google.com/github/Yuji-ONUKI/GCI2022Summer_/blob/main/EncodeTransform_Exec_Toyoda_Lab.ipynb\" target=\"_parent\"><img src=\"https://colab.research.google.com/assets/colab-badge.svg\" alt=\"Open In Colab\"/></a>"
      ]
    },
    {
      "cell_type": "markdown",
      "source": [
        "早稲田大学豊田研究室からRスクリプトをダウンロードし、文字コードをutf-8に変更します。\n"
      ],
      "metadata": {
        "id": "pyYEAzF8cA-1"
      }
    },
    {
      "cell_type": "markdown",
      "source": [
        "「ランタイム」メニューから「すべてのセルを実行する」を選んでください。\n"
      ],
      "metadata": {
        "id": "nNQWMKSscO-T"
      }
    },
    {
      "cell_type": "code",
      "source": [
        ""
      ],
      "metadata": {
        "id": "G8fhn27rcNxz"
      },
      "execution_count": 56,
      "outputs": []
    },
    {
      "cell_type": "code",
      "execution_count": 57,
      "metadata": {
        "id": "CXvbKidNW7yI",
        "colab": {
          "base_uri": "https://localhost:8080/"
        },
        "outputId": "fa9ed4e9-5248-42ab-f4ef-2a5a98d79e61"
      },
      "outputs": [
        {
          "output_type": "execute_result",
          "data": {
            "text/plain": [
              "561366"
            ]
          },
          "metadata": {},
          "execution_count": 57
        }
      ],
      "source": [
        "import requests\n",
        "url='http://www.waseda.jp/sem-toyoda-lab/data/%E6%94%BE%E9%80%81%E5%A4%A7%E5%AD%A6%E5%BF%83%E7%90%86%E7%B5%B1%E8%A8%8817.zip'\n",
        "response = requests.get(url)\n",
        "open(\"toyoda.zip\", \"wb\").write(response.content)\n"
      ]
    },
    {
      "cell_type": "code",
      "source": [
        "!unzip -Ocp932 toyoda.zip"
      ],
      "metadata": {
        "id": "h7-XSTouZPeq",
        "colab": {
          "base_uri": "https://localhost:8080/"
        },
        "outputId": "59f947e6-0bce-49a7-ec4b-f15eb73694b6"
      },
      "execution_count": 58,
      "outputs": [
        {
          "output_type": "stream",
          "name": "stdout",
          "text": [
            "Archive:  toyoda.zip\n",
            "   creating: 放送大学心理統計17/Astan219/\n",
            "   creating: 放送大学心理統計17/Astan219/myfunc/\n",
            "  inflating: 放送大学心理統計17/Astan219/myfunc/alpha.co.R  \n",
            "  inflating: 放送大学心理統計17/Astan219/myfunc/Bi01.R  \n",
            "  inflating: 放送大学心理統計17/Astan219/myfunc/Bi02.R  \n",
            "  inflating: 放送大学心理統計17/Astan219/myfunc/Bi03.R  \n",
            "  inflating: 放送大学心理統計17/Astan219/myfunc/con_hist.R  \n",
            "  inflating: 放送大学心理統計17/Astan219/myfunc/cumcurve.R  \n",
            "  inflating: 放送大学心理統計17/Astan219/myfunc/disc.co.R  \n",
            "  inflating: 放送大学心理統計17/Astan219/myfunc/E1Ind.R  \n",
            "  inflating: 放送大学心理統計17/Astan219/myfunc/E2Ind.R  \n",
            "  inflating: 放送大学心理統計17/Astan219/myfunc/G1mean.R  \n",
            "  inflating: 放送大学心理統計17/Astan219/myfunc/G2Ind.R  \n",
            "  inflating: 放送大学心理統計17/Astan219/myfunc/G2pair.R  \n",
            "  inflating: 放送大学心理統計17/Astan219/myfunc/gqcal.R  \n",
            "  inflating: 放送大学心理統計17/Astan219/myfunc/Mu01.R  \n",
            "  inflating: 放送大学心理統計17/Astan219/myfunc/Mu02.R  \n",
            "  inflating: 放送大学心理統計17/Astan219/myfunc/myfunc.R  \n",
            "  inflating: 放送大学心理統計17/Astan219/myfunc/phc01.R  \n",
            "  inflating: 放送大学心理統計17/Astan219/myfunc/phc02.R  \n",
            "  inflating: 放送大学心理統計17/Astan219/myfunc/Reg.R  \n",
            "  inflating: 放送大学心理統計17/Astan219/myfunc/stop.watch.R  \n",
            "  inflating: 放送大学心理統計17/Astan219/myfunc/test.table.R  \n",
            "  inflating: 放送大学心理統計17/Astan219/myfunc/因子分析宿題データ作成.R  \n",
            "  inflating: 放送大学心理統計17/Astan219/readme.txt  \n",
            "  inflating: 放送大学心理統計17/Astan219/RstanStan.pdf  \n",
            "   creating: 放送大学心理統計17/Astan219/scrB/\n",
            "  inflating: 放送大学心理統計17/Astan219/scrB/chap03.R  \n",
            "  inflating: 放送大学心理統計17/Astan219/scrB/chap04.R  \n",
            "  inflating: 放送大学心理統計17/Astan219/scrB/chap05.R  \n",
            "  inflating: 放送大学心理統計17/Astan219/scrB/chap07.R  \n",
            "  inflating: 放送大学心理統計17/Astan219/scrB/chap09.R  \n",
            "  inflating: 放送大学心理統計17/Astan219/scrB/chap10.R  \n",
            "  inflating: 放送大学心理統計17/Astan219/scrB/chap11.R  \n",
            "  inflating: 放送大学心理統計17/Astan219/scrB/chap12.R  \n",
            "  inflating: 放送大学心理統計17/Astan219/scrB/chapter01.R  \n",
            "  inflating: 放送大学心理統計17/Astan219/scrB/chapter02.R  \n",
            "  inflating: 放送大学心理統計17/Astan219/scrB/chapter03.R  \n",
            "  inflating: 放送大学心理統計17/Astan219/scrB/chapter04.R  \n",
            "  inflating: 放送大学心理統計17/Astan219/scrB/chapter05.R  \n",
            "  inflating: 放送大学心理統計17/Astan219/scrB/chapter07.R  \n",
            "  inflating: 放送大学心理統計17/Astan219/scrB/chapter09.R  \n",
            "  inflating: 放送大学心理統計17/Astan219/scrB/chapter10.R  \n",
            "  inflating: 放送大学心理統計17/Astan219/scrB/chapter11.R  \n",
            "  inflating: 放送大学心理統計17/Astan219/scrB/chapter12.R  \n",
            "  inflating: 放送大学心理統計17/Astan219/scrB/chapter13.R  \n",
            "  inflating: 放送大学心理統計17/Astan219/scrB/chapter14.R  \n",
            " extracting: 放送大学心理統計17/Astan219/scrB/chapter15.R  \n",
            "  inflating: 放送大学心理統計17/Astan219/scrB/smoke.csv  \n",
            "  inflating: 放送大学心理統計17/Astan219/scrB/ファイル名の説明.txt  \n",
            "  inflating: 放送大学心理統計17/Astan219/scrB/大腸がん.csv  \n",
            "  inflating: 放送大学心理統計17/Astan219/seigo.pdf  \n",
            "   creating: 放送大学心理統計17/Astan219/stan/\n",
            "  inflating: 放送大学心理統計17/Astan219/stan/Bi01.stan  \n",
            "  inflating: 放送大学心理統計17/Astan219/stan/Bi02.stan  \n",
            "  inflating: 放送大学心理統計17/Astan219/stan/Bi03.stan  \n",
            "  inflating: 放送大学心理統計17/Astan219/stan/E1IndPF.stan  \n",
            "  inflating: 放送大学心理統計17/Astan219/stan/E1IndPT.stan  \n",
            "  inflating: 放送大学心理統計17/Astan219/stan/E2IndPF.stan  \n",
            "  inflating: 放送大学心理統計17/Astan219/stan/E2IndPT.stan  \n",
            "  inflating: 放送大学心理統計17/Astan219/stan/G1meanPF.stan  \n",
            "  inflating: 放送大学心理統計17/Astan219/stan/G1meanPT.stan  \n",
            "  inflating: 放送大学心理統計17/Astan219/stan/G2IndPF.stan  \n",
            "  inflating: 放送大学心理統計17/Astan219/stan/G2IndPT.stan  \n",
            "  inflating: 放送大学心理統計17/Astan219/stan/G2pairPF.stan  \n",
            "  inflating: 放送大学心理統計17/Astan219/stan/G2pairPT.stan  \n",
            "  inflating: 放送大学心理統計17/Astan219/stan/Mu01.stan  \n",
            "  inflating: 放送大学心理統計17/Astan219/stan/Mu02.stan  \n",
            "  inflating: 放送大学心理統計17/Astan219/stan/Reg.stan  \n",
            "  inflating: 放送大学心理統計17/Astan219/stan/Reg02.stan  \n",
            "  inflating: 放送大学心理統計17/Astan219/動作確認時に生じたトラブルの報告.txt  \n",
            "  inflating: 放送大学心理統計17/質問返答.pdf  \n",
            "  inflating: 放送大学心理統計17/修正対照.pdf  \n"
          ]
        }
      ]
    },
    {
      "cell_type": "code",
      "source": [
        "!find /content/放送大学心理統計17/Astan219/myfunc -name \"*.R\" -exec bash -c 'echo {} && iconv -t utf8 -f cp932 {} > {}.new && mv {}.new {}' \\;"
      ],
      "metadata": {
        "id": "seSfb8VJaCEx",
        "colab": {
          "base_uri": "https://localhost:8080/"
        },
        "outputId": "74bb798c-1b65-4f92-d00a-e695e3977ea8"
      },
      "execution_count": 59,
      "outputs": [
        {
          "output_type": "stream",
          "name": "stdout",
          "text": [
            "/content/放送大学心理統計17/Astan219/myfunc/Bi02.R\n",
            "iconv: illegal input sequence at position 84\n",
            "/content/放送大学心理統計17/Astan219/myfunc/phc01.R\n",
            "iconv: illegal input sequence at position 31\n",
            "/content/放送大学心理統計17/Astan219/myfunc/Mu02.R\n",
            "iconv: illegal input sequence at position 84\n",
            "/content/放送大学心理統計17/Astan219/myfunc/G2pair.R\n",
            "iconv: illegal input sequence at position 84\n",
            "/content/放送大学心理統計17/Astan219/myfunc/G2Ind.R\n",
            "iconv: illegal input sequence at position 116\n",
            "/content/放送大学心理統計17/Astan219/myfunc/E1Ind.R\n",
            "iconv: illegal input sequence at position 115\n",
            "/content/放送大学心理統計17/Astan219/myfunc/test.table.R\n",
            "iconv: illegal input sequence at position 3\n",
            "/content/放送大学心理統計17/Astan219/myfunc/G1mean.R\n",
            "iconv: illegal input sequence at position 91\n",
            "/content/放送大学心理統計17/Astan219/myfunc/Bi03.R\n",
            "iconv: illegal input sequence at position 84\n",
            "/content/放送大学心理統計17/Astan219/myfunc/cumcurve.R\n",
            "iconv: illegal input sequence at position 141\n",
            "/content/放送大学心理統計17/Astan219/myfunc/gqcal.R\n",
            "iconv: illegal input sequence at position 5\n",
            "/content/放送大学心理統計17/Astan219/myfunc/Bi01.R\n",
            "iconv: illegal input sequence at position 92\n",
            "/content/放送大学心理統計17/Astan219/myfunc/myfunc.R\n",
            "iconv: illegal input sequence at position 74\n",
            "/content/放送大学心理統計17/Astan219/myfunc/E2Ind.R\n",
            "iconv: illegal input sequence at position 115\n",
            "/content/放送大学心理統計17/Astan219/myfunc/因子分析宿題データ作成.R\n",
            "iconv: illegal input sequence at position 3\n",
            "/content/放送大学心理統計17/Astan219/myfunc/phc02.R\n",
            "iconv: illegal input sequence at position 18\n",
            "/content/放送大学心理統計17/Astan219/myfunc/disc.co.R\n",
            "/content/放送大学心理統計17/Astan219/myfunc/Reg.R\n",
            "iconv: illegal input sequence at position 91\n",
            "/content/放送大学心理統計17/Astan219/myfunc/con_hist.R\n",
            "iconv: illegal input sequence at position 23\n",
            "/content/放送大学心理統計17/Astan219/myfunc/Mu01.R\n",
            "iconv: illegal input sequence at position 82\n",
            "/content/放送大学心理統計17/Astan219/myfunc/stop.watch.R\n",
            "iconv: illegal input sequence at position 17\n",
            "/content/放送大学心理統計17/Astan219/myfunc/alpha.co.R\n",
            "iconv: illegal input sequence at position 53\n"
          ]
        }
      ]
    },
    {
      "cell_type": "code",
      "source": [
        "!find /content/放送大学心理統計17/Astan219/scrB -name \"*.R\" -exec bash -c 'echo {} && iconv -t utf8 -f cp932 {} > {}.new && mv {}.new {}' \\;"
      ],
      "metadata": {
        "id": "FLFZD-trawdv",
        "colab": {
          "base_uri": "https://localhost:8080/"
        },
        "outputId": "723a090c-0dbe-4695-ccc5-89c252d0262d"
      },
      "execution_count": 60,
      "outputs": [
        {
          "output_type": "stream",
          "name": "stdout",
          "text": [
            "/content/放送大学心理統計17/Astan219/scrB/chapter04.R\n",
            "iconv: illegal input sequence at position 7\n",
            "/content/放送大学心理統計17/Astan219/scrB/chapter14.R\n",
            "iconv: illegal input sequence at position 8\n",
            "/content/放送大学心理統計17/Astan219/scrB/chap05.R\n",
            "iconv: illegal input sequence at position 7\n",
            "/content/放送大学心理統計17/Astan219/scrB/chapter15.R\n",
            "iconv: illegal input sequence at position 8\n",
            "/content/放送大学心理統計17/Astan219/scrB/chap10.R\n",
            "iconv: illegal input sequence at position 8\n",
            "/content/放送大学心理統計17/Astan219/scrB/chap12.R\n",
            "iconv: illegal input sequence at position 8\n",
            "/content/放送大学心理統計17/Astan219/scrB/chap11.R\n",
            "iconv: illegal input sequence at position 8\n",
            "/content/放送大学心理統計17/Astan219/scrB/chapter13.R\n",
            "iconv: illegal input sequence at position 8\n",
            "/content/放送大学心理統計17/Astan219/scrB/chapter01.R\n",
            "iconv: illegal input sequence at position 7\n",
            "/content/放送大学心理統計17/Astan219/scrB/chapter09.R\n",
            "iconv: illegal input sequence at position 7\n",
            "/content/放送大学心理統計17/Astan219/scrB/chap09.R\n",
            "iconv: illegal input sequence at position 7\n",
            "/content/放送大学心理統計17/Astan219/scrB/chapter11.R\n",
            "iconv: illegal input sequence at position 8\n",
            "/content/放送大学心理統計17/Astan219/scrB/chap03.R\n",
            "iconv: illegal input sequence at position 7\n",
            "/content/放送大学心理統計17/Astan219/scrB/chap04.R\n",
            "iconv: illegal input sequence at position 7\n",
            "/content/放送大学心理統計17/Astan219/scrB/chap07.R\n",
            "iconv: illegal input sequence at position 7\n",
            "/content/放送大学心理統計17/Astan219/scrB/chapter02.R\n",
            "iconv: illegal input sequence at position 7\n",
            "/content/放送大学心理統計17/Astan219/scrB/chapter10.R\n",
            "iconv: illegal input sequence at position 8\n",
            "/content/放送大学心理統計17/Astan219/scrB/chapter03.R\n",
            "iconv: illegal input sequence at position 7\n",
            "/content/放送大学心理統計17/Astan219/scrB/chapter05.R\n",
            "iconv: illegal input sequence at position 7\n",
            "/content/放送大学心理統計17/Astan219/scrB/chapter07.R\n",
            "iconv: illegal input sequence at position 7\n",
            "/content/放送大学心理統計17/Astan219/scrB/chapter12.R\n",
            "iconv: illegal input sequence at position 8\n"
          ]
        }
      ]
    },
    {
      "cell_type": "code",
      "source": [
        "!find /content/放送大学心理統計17/Astan219/stan -name \"*.stan\" -exec bash -c 'echo {} && iconv -t utf8 -f cp932 {} > {}.new && mv {}.new {}' \\;"
      ],
      "metadata": {
        "id": "HjUlp7jha-AS",
        "colab": {
          "base_uri": "https://localhost:8080/"
        },
        "outputId": "65d743f7-8c2d-4800-c6c8-bc249d45d5db"
      },
      "execution_count": 61,
      "outputs": [
        {
          "output_type": "stream",
          "name": "stdout",
          "text": [
            "/content/放送大学心理統計17/Astan219/stan/Bi03.stan\n",
            "iconv: illegal input sequence at position 9\n",
            "/content/放送大学心理統計17/Astan219/stan/G1meanPF.stan\n",
            "iconv: illegal input sequence at position 61\n",
            "/content/放送大学心理統計17/Astan219/stan/E2IndPT.stan\n",
            "iconv: illegal input sequence at position 20\n",
            "/content/放送大学心理統計17/Astan219/stan/G2pairPT.stan\n",
            "iconv: illegal input sequence at position 59\n",
            "/content/放送大学心理統計17/Astan219/stan/Bi02.stan\n",
            "iconv: illegal input sequence at position 9\n",
            "/content/放送大学心理統計17/Astan219/stan/Mu02.stan\n",
            "iconv: illegal input sequence at position 9\n",
            "/content/放送大学心理統計17/Astan219/stan/E1IndPF.stan\n",
            "iconv: illegal input sequence at position 20\n",
            "/content/放送大学心理統計17/Astan219/stan/G2IndPF.stan\n",
            "iconv: illegal input sequence at position 58\n",
            "/content/放送大学心理統計17/Astan219/stan/Reg02.stan\n",
            "iconv: illegal input sequence at position 16\n",
            "/content/放送大学心理統計17/Astan219/stan/G2pairPF.stan\n",
            "iconv: illegal input sequence at position 59\n",
            "/content/放送大学心理統計17/Astan219/stan/Mu01.stan\n",
            "iconv: illegal input sequence at position 7\n",
            "/content/放送大学心理統計17/Astan219/stan/E1IndPT.stan\n",
            "iconv: illegal input sequence at position 20\n",
            "/content/放送大学心理統計17/Astan219/stan/Reg.stan\n",
            "iconv: illegal input sequence at position 16\n",
            "/content/放送大学心理統計17/Astan219/stan/G2IndPT.stan\n",
            "iconv: illegal input sequence at position 58\n",
            "/content/放送大学心理統計17/Astan219/stan/G1meanPT.stan\n",
            "iconv: illegal input sequence at position 53\n",
            "/content/放送大学心理統計17/Astan219/stan/E2IndPF.stan\n",
            "iconv: illegal input sequence at position 20\n",
            "/content/放送大学心理統計17/Astan219/stan/Bi01.stan\n",
            "iconv: illegal input sequence at position 162\n"
          ]
        }
      ]
    },
    {
      "cell_type": "code",
      "source": [
        "!find /content/放送大学心理統計17/Astan219 -name \"*.pdf\" -exec bash -c 'echo {} && iconv -t utf8 -f cp932 {} > {}.new && mv {}.new {}' \\;"
      ],
      "metadata": {
        "id": "gPnGlqxCbGzu",
        "colab": {
          "base_uri": "https://localhost:8080/"
        },
        "outputId": "00a8e49f-e6b6-4d82-c980-0c5b9aed096c"
      },
      "execution_count": 62,
      "outputs": [
        {
          "output_type": "stream",
          "name": "stdout",
          "text": [
            "/content/放送大学心理統計17/Astan219/放送大学心理統計17/質問返答.pdf\n",
            "iconv: illegal input sequence at position 87\n",
            "/content/放送大学心理統計17/Astan219/放送大学心理統計17/Astan219/seigo.pdf\n",
            "iconv: illegal input sequence at position 72\n",
            "/content/放送大学心理統計17/Astan219/放送大学心理統計17/Astan219/RstanStan.pdf\n",
            "iconv: illegal input sequence at position 77\n",
            "/content/放送大学心理統計17/Astan219/放送大学心理統計17/修正対照.pdf\n",
            "iconv: illegal input sequence at position 73\n",
            "/content/放送大学心理統計17/Astan219/seigo.pdf\n",
            "iconv: illegal input sequence at position 72\n",
            "/content/放送大学心理統計17/Astan219/Rplots.pdf\n",
            "/content/放送大学心理統計17/Astan219/RstanStan.pdf\n",
            "iconv: illegal input sequence at position 77\n"
          ]
        }
      ]
    },
    {
      "cell_type": "code",
      "source": [
        "!find /content/放送大学心理統計17/Astan219 -name \"*.txt\" -exec bash -c 'echo {} && iconv -t utf8 -f cp932 {} > {}.new && mv {}.new {}' \\;"
      ],
      "metadata": {
        "id": "2YpkXomsbcns",
        "colab": {
          "base_uri": "https://localhost:8080/"
        },
        "outputId": "ce6ba90c-14b9-4b33-9fa3-7f8a651a2567"
      },
      "execution_count": 63,
      "outputs": [
        {
          "output_type": "stream",
          "name": "stdout",
          "text": [
            "/content/放送大学心理統計17/Astan219/readme.txt\n",
            "iconv: illegal input sequence at position 14\n",
            "/content/放送大学心理統計17/Astan219/放送大学心理統計17/Astan219/readme.txt\n",
            "/content/放送大学心理統計17/Astan219/放送大学心理統計17/Astan219/scrB/ファイル名の説明.txt\n",
            "/content/放送大学心理統計17/Astan219/放送大学心理統計17/Astan219/動作確認時に生じたトラブルの報告.txt\n",
            "/content/放送大学心理統計17/Astan219/scrB/ファイル名の説明.txt\n",
            "iconv: illegal input sequence at position 4\n",
            "/content/放送大学心理統計17/Astan219/動作確認時に生じたトラブルの報告.txt\n",
            "iconv: illegal input sequence at position 47\n"
          ]
        }
      ]
    },
    {
      "cell_type": "code",
      "source": [
        "!find /content/放送大学心理統計17 -name \"*.pdf\" -exec bash -c 'echo {} && iconv -t utf8 -f cp932 {} > {}.new && mv {}.new {}' \\;"
      ],
      "metadata": {
        "id": "CzxXjVysbqCV",
        "colab": {
          "base_uri": "https://localhost:8080/"
        },
        "outputId": "5dc7451d-1b7d-4f79-a5a1-49c85bc09279"
      },
      "execution_count": 64,
      "outputs": [
        {
          "output_type": "stream",
          "name": "stdout",
          "text": [
            "/content/放送大学心理統計17/質問返答.pdf\n",
            "iconv: illegal input sequence at position 87\n",
            "/content/放送大学心理統計17/Astan219/放送大学心理統計17/質問返答.pdf\n",
            "iconv: illegal input sequence at position 87\n",
            "/content/放送大学心理統計17/Astan219/放送大学心理統計17/Astan219/seigo.pdf\n",
            "iconv: illegal input sequence at position 72\n",
            "/content/放送大学心理統計17/Astan219/放送大学心理統計17/Astan219/RstanStan.pdf\n",
            "iconv: illegal input sequence at position 77\n",
            "/content/放送大学心理統計17/Astan219/放送大学心理統計17/修正対照.pdf\n",
            "iconv: illegal input sequence at position 73\n",
            "/content/放送大学心理統計17/Astan219/seigo.pdf\n",
            "iconv: illegal input sequence at position 72\n",
            "/content/放送大学心理統計17/Astan219/Rplots.pdf\n",
            "/content/放送大学心理統計17/Astan219/RstanStan.pdf\n",
            "iconv: illegal input sequence at position 77\n",
            "/content/放送大学心理統計17/修正対照.pdf\n",
            "iconv: illegal input sequence at position 73\n"
          ]
        }
      ]
    },
    {
      "cell_type": "code",
      "source": [
        "!zip -r ShinriTokei17.zip /content/放送大学心理統計17"
      ],
      "metadata": {
        "id": "xl-TYwweckXa",
        "colab": {
          "base_uri": "https://localhost:8080/"
        },
        "outputId": "82cac3f7-b045-40fc-e93a-6f74cf1204c3"
      },
      "execution_count": 65,
      "outputs": [
        {
          "output_type": "stream",
          "name": "stdout",
          "text": [
            "  adding: content/放送大学心理統計17/ (stored 0%)\n",
            "  adding: content/放送大学心理統計17/質問返答.pdf (deflated 1%)\n",
            "  adding: content/放送大学心理統計17/Astan219/ (stored 0%)\n",
            "  adding: content/放送大学心理統計17/Astan219/myfunc/ (stored 0%)\n",
            "  adding: content/放送大学心理統計17/Astan219/myfunc/G2Ind.R.new (deflated 48%)\n",
            "  adding: content/放送大学心理統計17/Astan219/myfunc/Bi02.R (deflated 55%)\n",
            "  adding: content/放送大学心理統計17/Astan219/myfunc/myfunc.R.new (deflated 15%)\n",
            "  adding: content/放送大学心理統計17/Astan219/myfunc/Bi01.R.new (deflated 63%)\n",
            "  adding: content/放送大学心理統計17/Astan219/myfunc/stop.watch.R.new (deflated 4%)\n",
            "  adding: content/放送大学心理統計17/Astan219/myfunc/phc01.R (deflated 46%)\n",
            "  adding: content/放送大学心理統計17/Astan219/myfunc/Mu01.R.new (deflated 78%)\n",
            "  adding: content/放送大学心理統計17/Astan219/myfunc/Mu02.R (deflated 51%)\n",
            "  adding: content/放送大学心理統計17/Astan219/myfunc/Bi02.R.new (deflated 75%)\n",
            "  adding: content/放送大学心理統計17/Astan219/myfunc/cumcurve.R.new (deflated 12%)\n",
            "  adding: content/放送大学心理統計17/Astan219/myfunc/Reg.R.new (deflated 66%)\n",
            "  adding: content/放送大学心理統計17/Astan219/myfunc/G2pair.R (deflated 68%)\n",
            "  adding: content/放送大学心理統計17/Astan219/myfunc/G2Ind.R (deflated 65%)\n",
            "  adding: content/放送大学心理統計17/Astan219/myfunc/Mu02.R.new (deflated 75%)\n",
            "  adding: content/放送大学心理統計17/Astan219/myfunc/E1Ind.R (deflated 58%)\n",
            "  adding: content/放送大学心理統計17/Astan219/myfunc/con_hist.R.new (stored 0%)\n",
            "  adding: content/放送大学心理統計17/Astan219/myfunc/test.table.R (deflated 61%)\n",
            "  adding: content/放送大学心理統計17/Astan219/myfunc/G2pair.R.new (deflated 75%)\n",
            "  adding: content/放送大学心理統計17/Astan219/myfunc/G1mean.R (deflated 70%)\n",
            "  adding: content/放送大学心理統計17/Astan219/myfunc/Bi03.R (deflated 51%)\n",
            "  adding: content/放送大学心理統計17/Astan219/myfunc/test.table.R.new (stored 0%)\n",
            "  adding: content/放送大学心理統計17/Astan219/myfunc/cumcurve.R (deflated 17%)\n",
            "  adding: content/放送大学心理統計17/Astan219/myfunc/gqcal.R (deflated 19%)\n",
            "  adding: content/放送大学心理統計17/Astan219/myfunc/Bi03.R.new (deflated 75%)\n",
            "  adding: content/放送大学心理統計17/Astan219/myfunc/Bi01.R (deflated 55%)\n",
            "  adding: content/放送大学心理統計17/Astan219/myfunc/myfunc.R (deflated 55%)\n",
            "  adding: content/放送大学心理統計17/Astan219/myfunc/E2Ind.R (deflated 60%)\n",
            "  adding: content/放送大学心理統計17/Astan219/myfunc/因子分析宿題データ作成.R (deflated 57%)\n",
            "  adding: content/放送大学心理統計17/Astan219/myfunc/phc01.R.new (stored 0%)\n",
            "  adding: content/放送大学心理統計17/Astan219/myfunc/phc02.R.new (stored 0%)\n",
            "  adding: content/放送大学心理統計17/Astan219/myfunc/phc02.R (deflated 28%)\n",
            "  adding: content/放送大学心理統計17/Astan219/myfunc/disc.co.R (deflated 38%)\n",
            "  adding: content/放送大学心理統計17/Astan219/myfunc/Reg.R (deflated 57%)\n",
            "  adding: content/放送大学心理統計17/Astan219/myfunc/con_hist.R (deflated 55%)\n",
            "  adding: content/放送大学心理統計17/Astan219/myfunc/Mu01.R (deflated 51%)\n",
            "  adding: content/放送大学心理統計17/Astan219/myfunc/E2Ind.R.new (deflated 45%)\n",
            "  adding: content/放送大学心理統計17/Astan219/myfunc/E1Ind.R.new (deflated 45%)\n",
            "  adding: content/放送大学心理統計17/Astan219/myfunc/stop.watch.R (deflated 3%)\n",
            "  adding: content/放送大学心理統計17/Astan219/myfunc/G1mean.R.new (deflated 65%)\n",
            "  adding: content/放送大学心理統計17/Astan219/myfunc/alpha.co.R.new (stored 0%)\n",
            "  adding: content/放送大学心理統計17/Astan219/myfunc/因子分析宿題データ作成.R.new (stored 0%)\n",
            "  adding: content/放送大学心理統計17/Astan219/myfunc/gqcal.R.new (stored 0%)\n",
            "  adding: content/放送大学心理統計17/Astan219/myfunc/alpha.co.R (deflated 12%)\n",
            "  adding: content/放送大学心理統計17/Astan219/readme.txt (deflated 49%)\n",
            "  adding: content/放送大学心理統計17/Astan219/放送大学心理統計17/ (stored 0%)\n",
            "  adding: content/放送大学心理統計17/Astan219/放送大学心理統計17/質問返答.pdf (deflated 1%)\n",
            "  adding: content/放送大学心理統計17/Astan219/放送大学心理統計17/Astan219/ (stored 0%)\n",
            "  adding: content/放送大学心理統計17/Astan219/放送大学心理統計17/Astan219/myfunc/ (stored 0%)\n",
            "  adding: content/放送大学心理統計17/Astan219/放送大学心理統計17/Astan219/myfunc/Bi02.R (deflated 54%)\n",
            "  adding: content/放送大学心理統計17/Astan219/放送大学心理統計17/Astan219/myfunc/phc01.R (deflated 43%)\n",
            "  adding: content/放送大学心理統計17/Astan219/放送大学心理統計17/Astan219/myfunc/Mu02.R (deflated 50%)\n",
            "  adding: content/放送大学心理統計17/Astan219/放送大学心理統計17/Astan219/myfunc/G2pair.R (deflated 66%)\n",
            "  adding: content/放送大学心理統計17/Astan219/放送大学心理統計17/Astan219/myfunc/G2Ind.R (deflated 64%)\n",
            "  adding: content/放送大学心理統計17/Astan219/放送大学心理統計17/Astan219/myfunc/E1Ind.R (deflated 57%)\n",
            "  adding: content/放送大学心理統計17/Astan219/放送大学心理統計17/Astan219/myfunc/test.table.R (deflated 56%)\n",
            "  adding: content/放送大学心理統計17/Astan219/放送大学心理統計17/Astan219/myfunc/G1mean.R (deflated 69%)\n",
            "  adding: content/放送大学心理統計17/Astan219/放送大学心理統計17/Astan219/myfunc/Bi03.R (deflated 50%)\n",
            "  adding: content/放送大学心理統計17/Astan219/放送大学心理統計17/Astan219/myfunc/cumcurve.R (deflated 17%)\n",
            "  adding: content/放送大学心理統計17/Astan219/放送大学心理統計17/Astan219/myfunc/gqcal.R (deflated 20%)\n",
            "  adding: content/放送大学心理統計17/Astan219/放送大学心理統計17/Astan219/myfunc/Bi01.R (deflated 54%)\n",
            "  adding: content/放送大学心理統計17/Astan219/放送大学心理統計17/Astan219/myfunc/myfunc.R (deflated 55%)\n",
            "  adding: content/放送大学心理統計17/Astan219/放送大学心理統計17/Astan219/myfunc/E2Ind.R (deflated 59%)\n",
            "  adding: content/放送大学心理統計17/Astan219/放送大学心理統計17/Astan219/myfunc/因子分析宿題データ作成.R (deflated 50%)\n",
            "  adding: content/放送大学心理統計17/Astan219/放送大学心理統計17/Astan219/myfunc/phc02.R (deflated 25%)\n",
            "  adding: content/放送大学心理統計17/Astan219/放送大学心理統計17/Astan219/myfunc/disc.co.R (deflated 38%)\n",
            "  adding: content/放送大学心理統計17/Astan219/放送大学心理統計17/Astan219/myfunc/Reg.R (deflated 57%)\n",
            "  adding: content/放送大学心理統計17/Astan219/放送大学心理統計17/Astan219/myfunc/con_hist.R (deflated 54%)\n",
            "  adding: content/放送大学心理統計17/Astan219/放送大学心理統計17/Astan219/myfunc/Mu01.R (deflated 50%)\n",
            "  adding: content/放送大学心理統計17/Astan219/放送大学心理統計17/Astan219/myfunc/stop.watch.R (deflated 4%)\n",
            "  adding: content/放送大学心理統計17/Astan219/放送大学心理統計17/Astan219/myfunc/alpha.co.R (deflated 12%)\n",
            "  adding: content/放送大学心理統計17/Astan219/放送大学心理統計17/Astan219/readme.txt (deflated 49%)\n",
            "  adding: content/放送大学心理統計17/Astan219/放送大学心理統計17/Astan219/scrB/ (stored 0%)\n",
            "  adding: content/放送大学心理統計17/Astan219/放送大学心理統計17/Astan219/scrB/大腸がん.csv (deflated 62%)\n",
            "  adding: content/放送大学心理統計17/Astan219/放送大学心理統計17/Astan219/scrB/chapter04.R (deflated 40%)\n",
            "  adding: content/放送大学心理統計17/Astan219/放送大学心理統計17/Astan219/scrB/chapter14.R (deflated 45%)\n",
            "  adding: content/放送大学心理統計17/Astan219/放送大学心理統計17/Astan219/scrB/chap05.R (deflated 61%)\n",
            "  adding: content/放送大学心理統計17/Astan219/放送大学心理統計17/Astan219/scrB/smoke.csv (deflated 44%)\n",
            "  adding: content/放送大学心理統計17/Astan219/放送大学心理統計17/Astan219/scrB/chapter15.R (stored 0%)\n",
            "  adding: content/放送大学心理統計17/Astan219/放送大学心理統計17/Astan219/scrB/chap10.R (deflated 59%)\n",
            "  adding: content/放送大学心理統計17/Astan219/放送大学心理統計17/Astan219/scrB/chap12.R (deflated 50%)\n",
            "  adding: content/放送大学心理統計17/Astan219/放送大学心理統計17/Astan219/scrB/chap11.R (deflated 51%)\n",
            "  adding: content/放送大学心理統計17/Astan219/放送大学心理統計17/Astan219/scrB/chapter13.R (deflated 56%)\n",
            "  adding: content/放送大学心理統計17/Astan219/放送大学心理統計17/Astan219/scrB/chapter01.R (deflated 45%)\n",
            "  adding: content/放送大学心理統計17/Astan219/放送大学心理統計17/Astan219/scrB/chapter09.R (deflated 41%)\n",
            "  adding: content/放送大学心理統計17/Astan219/放送大学心理統計17/Astan219/scrB/chap09.R (deflated 45%)\n",
            "  adding: content/放送大学心理統計17/Astan219/放送大学心理統計17/Astan219/scrB/chapter11.R (deflated 53%)\n",
            "  adding: content/放送大学心理統計17/Astan219/放送大学心理統計17/Astan219/scrB/chap03.R (deflated 31%)\n",
            "  adding: content/放送大学心理統計17/Astan219/放送大学心理統計17/Astan219/scrB/ファイル名の説明.txt (deflated 46%)\n",
            "  adding: content/放送大学心理統計17/Astan219/放送大学心理統計17/Astan219/scrB/chap04.R (deflated 40%)\n",
            "  adding: content/放送大学心理統計17/Astan219/放送大学心理統計17/Astan219/scrB/chap07.R (deflated 62%)\n",
            "  adding: content/放送大学心理統計17/Astan219/放送大学心理統計17/Astan219/scrB/chapter02.R (deflated 44%)\n",
            "  adding: content/放送大学心理統計17/Astan219/放送大学心理統計17/Astan219/scrB/chapter10.R (deflated 52%)\n",
            "  adding: content/放送大学心理統計17/Astan219/放送大学心理統計17/Astan219/scrB/chapter03.R (deflated 31%)\n",
            "  adding: content/放送大学心理統計17/Astan219/放送大学心理統計17/Astan219/scrB/chapter05.R (deflated 42%)\n",
            "  adding: content/放送大学心理統計17/Astan219/放送大学心理統計17/Astan219/scrB/chapter07.R (deflated 50%)\n",
            "  adding: content/放送大学心理統計17/Astan219/放送大学心理統計17/Astan219/scrB/chapter12.R (deflated 45%)\n",
            "  adding: content/放送大学心理統計17/Astan219/放送大学心理統計17/Astan219/RstanStan.pdf.new (stored 0%)\n",
            "  adding: content/放送大学心理統計17/Astan219/放送大学心理統計17/Astan219/seigo.pdf (deflated 3%)\n",
            "  adding: content/放送大学心理統計17/Astan219/放送大学心理統計17/Astan219/seigo.pdf.new (stored 0%)\n",
            "  adding: content/放送大学心理統計17/Astan219/放送大学心理統計17/Astan219/RstanStan.pdf (deflated 1%)\n",
            "  adding: content/放送大学心理統計17/Astan219/放送大学心理統計17/Astan219/stan/ (stored 0%)\n",
            "  adding: content/放送大学心理統計17/Astan219/放送大学心理統計17/Astan219/stan/Bi03.stan (deflated 51%)\n",
            "  adding: content/放送大学心理統計17/Astan219/放送大学心理統計17/Astan219/stan/G1meanPF.stan (deflated 50%)\n",
            "  adding: content/放送大学心理統計17/Astan219/放送大学心理統計17/Astan219/stan/E2IndPT.stan (deflated 73%)\n",
            "  adding: content/放送大学心理統計17/Astan219/放送大学心理統計17/Astan219/stan/G2pairPT.stan (deflated 52%)\n",
            "  adding: content/放送大学心理統計17/Astan219/放送大学心理統計17/Astan219/stan/Bi02.stan (deflated 49%)\n",
            "  adding: content/放送大学心理統計17/Astan219/放送大学心理統計17/Astan219/stan/Mu02.stan (deflated 62%)\n",
            "  adding: content/放送大学心理統計17/Astan219/放送大学心理統計17/Astan219/stan/E1IndPF.stan (deflated 60%)\n",
            "  adding: content/放送大学心理統計17/Astan219/放送大学心理統計17/Astan219/stan/G2IndPF.stan (deflated 56%)\n",
            "  adding: content/放送大学心理統計17/Astan219/放送大学心理統計17/Astan219/stan/Reg02.stan (deflated 53%)\n",
            "  adding: content/放送大学心理統計17/Astan219/放送大学心理統計17/Astan219/stan/G2pairPF.stan (deflated 53%)\n",
            "  adding: content/放送大学心理統計17/Astan219/放送大学心理統計17/Astan219/stan/Mu01.stan (deflated 43%)\n",
            "  adding: content/放送大学心理統計17/Astan219/放送大学心理統計17/Astan219/stan/E1IndPT.stan (deflated 59%)\n",
            "  adding: content/放送大学心理統計17/Astan219/放送大学心理統計17/Astan219/stan/Reg.stan (deflated 56%)\n",
            "  adding: content/放送大学心理統計17/Astan219/放送大学心理統計17/Astan219/stan/G2IndPT.stan (deflated 54%)\n",
            "  adding: content/放送大学心理統計17/Astan219/放送大学心理統計17/Astan219/stan/G1meanPT.stan (deflated 48%)\n",
            "  adding: content/放送大学心理統計17/Astan219/放送大学心理統計17/Astan219/stan/E2IndPF.stan (deflated 73%)\n",
            "  adding: content/放送大学心理統計17/Astan219/放送大学心理統計17/Astan219/stan/Bi01.stan (deflated 45%)\n",
            "  adding: content/放送大学心理統計17/Astan219/放送大学心理統計17/Astan219/動作確認時に生じたトラブルの報告.txt (deflated 49%)\n",
            "  adding: content/放送大学心理統計17/Astan219/放送大学心理統計17/質問返答.pdf.new (stored 0%)\n",
            "  adding: content/放送大学心理統計17/Astan219/放送大学心理統計17/修正対照.pdf (deflated 2%)\n",
            "  adding: content/放送大学心理統計17/Astan219/放送大学心理統計17/修正対照.pdf.new (stored 0%)\n",
            "  adding: content/放送大学心理統計17/Astan219/scrB/ (stored 0%)\n",
            "  adding: content/放送大学心理統計17/Astan219/scrB/大腸がん.csv (deflated 62%)\n",
            "  adding: content/放送大学心理統計17/Astan219/scrB/chapter11.R.new (stored 0%)\n",
            "  adding: content/放送大学心理統計17/Astan219/scrB/chapter15.R.new (stored 0%)\n",
            "  adding: content/放送大学心理統計17/Astan219/scrB/chapter04.R (deflated 40%)\n",
            "  adding: content/放送大学心理統計17/Astan219/scrB/chapter09.R.new (stored 0%)\n",
            "  adding: content/放送大学心理統計17/Astan219/scrB/chapter14.R (deflated 44%)\n",
            "  adding: content/放送大学心理統計17/Astan219/scrB/chap05.R (deflated 61%)\n",
            "  adding: content/放送大学心理統計17/Astan219/scrB/smoke.csv (deflated 44%)\n",
            "  adding: content/放送大学心理統計17/Astan219/scrB/chapter15.R (stored 0%)\n",
            "  adding: content/放送大学心理統計17/Astan219/scrB/chap10.R (deflated 60%)\n",
            "  adding: content/放送大学心理統計17/Astan219/scrB/chap12.R (deflated 51%)\n",
            "  adding: content/放送大学心理統計17/Astan219/scrB/chap11.R (deflated 52%)\n",
            "  adding: content/放送大学心理統計17/Astan219/scrB/chapter01.R.new (stored 0%)\n",
            "  adding: content/放送大学心理統計17/Astan219/scrB/chapter13.R.new (stored 0%)\n",
            "  adding: content/放送大学心理統計17/Astan219/scrB/ファイル名の説明.txt.new (stored 0%)\n",
            "  adding: content/放送大学心理統計17/Astan219/scrB/chapter13.R (deflated 55%)\n",
            "  adding: content/放送大学心理統計17/Astan219/scrB/chapter01.R (deflated 46%)\n",
            "  adding: content/放送大学心理統計17/Astan219/scrB/chapter09.R (deflated 41%)\n",
            "  adding: content/放送大学心理統計17/Astan219/scrB/chapter03.R.new (stored 0%)\n",
            "  adding: content/放送大学心理統計17/Astan219/scrB/chap03.R.new (stored 0%)\n",
            "  adding: content/放送大学心理統計17/Astan219/scrB/chapter05.R.new (stored 0%)\n",
            "  adding: content/放送大学心理統計17/Astan219/scrB/chap09.R (deflated 47%)\n",
            "  adding: content/放送大学心理統計17/Astan219/scrB/chapter14.R.new (stored 0%)\n",
            "  adding: content/放送大学心理統計17/Astan219/scrB/chapter11.R (deflated 54%)\n",
            "  adding: content/放送大学心理統計17/Astan219/scrB/chap03.R (deflated 32%)\n",
            "  adding: content/放送大学心理統計17/Astan219/scrB/ファイル名の説明.txt (deflated 46%)\n",
            "  adding: content/放送大学心理統計17/Astan219/scrB/chapter04.R.new (stored 0%)\n",
            "  adding: content/放送大学心理統計17/Astan219/scrB/chap04.R (deflated 41%)\n",
            "  adding: content/放送大学心理統計17/Astan219/scrB/chap07.R (deflated 62%)\n",
            "  adding: content/放送大学心理統計17/Astan219/scrB/chap10.R.new (stored 0%)\n",
            "  adding: content/放送大学心理統計17/Astan219/scrB/chapter12.R.new (stored 0%)\n",
            "  adding: content/放送大学心理統計17/Astan219/scrB/chap05.R.new (stored 0%)\n",
            "  adding: content/放送大学心理統計17/Astan219/scrB/chapter02.R.new (stored 0%)\n",
            "  adding: content/放送大学心理統計17/Astan219/scrB/chap04.R.new (stored 0%)\n",
            "  adding: content/放送大学心理統計17/Astan219/scrB/chap09.R.new (stored 0%)\n",
            "  adding: content/放送大学心理統計17/Astan219/scrB/chapter02.R (deflated 44%)\n",
            "  adding: content/放送大学心理統計17/Astan219/scrB/chap11.R.new (stored 0%)\n",
            "  adding: content/放送大学心理統計17/Astan219/scrB/chapter10.R (deflated 52%)\n",
            "  adding: content/放送大学心理統計17/Astan219/scrB/chapter03.R (deflated 32%)\n",
            "  adding: content/放送大学心理統計17/Astan219/scrB/chapter10.R.new (stored 0%)\n",
            "  adding: content/放送大学心理統計17/Astan219/scrB/chapter07.R.new (stored 0%)\n",
            "  adding: content/放送大学心理統計17/Astan219/scrB/chap07.R.new (stored 0%)\n",
            "  adding: content/放送大学心理統計17/Astan219/scrB/chapter05.R (deflated 43%)\n",
            "  adding: content/放送大学心理統計17/Astan219/scrB/chapter07.R (deflated 51%)\n",
            "  adding: content/放送大学心理統計17/Astan219/scrB/chap12.R.new (stored 0%)\n",
            "  adding: content/放送大学心理統計17/Astan219/scrB/chapter12.R (deflated 45%)\n",
            "  adding: content/放送大学心理統計17/Astan219/RstanStan.pdf.new (stored 0%)\n",
            "  adding: content/放送大学心理統計17/Astan219/seigo.pdf (deflated 3%)\n",
            "  adding: content/放送大学心理統計17/Astan219/seigo.pdf.new (stored 0%)\n",
            "  adding: content/放送大学心理統計17/Astan219/Rplots.pdf (stored 0%)\n",
            "  adding: content/放送大学心理統計17/Astan219/動作確認時に生じたトラブルの報告.txt.new (stored 0%)\n",
            "  adding: content/放送大学心理統計17/Astan219/toyoda.zip (stored 0%)\n",
            "  adding: content/放送大学心理統計17/Astan219/RstanStan.pdf (deflated 1%)\n",
            "  adding: content/放送大学心理統計17/Astan219/readme.txt.new (stored 0%)\n",
            "  adding: content/放送大学心理統計17/Astan219/stan/ (stored 0%)\n",
            "  adding: content/放送大学心理統計17/Astan219/stan/Reg02.stan.new (stored 0%)\n",
            "  adding: content/放送大学心理統計17/Astan219/stan/Reg.stan.new (stored 0%)\n",
            "  adding: content/放送大学心理統計17/Astan219/stan/Bi03.stan (deflated 50%)\n",
            "  adding: content/放送大学心理統計17/Astan219/stan/G1meanPF.stan (deflated 48%)\n",
            "  adding: content/放送大学心理統計17/Astan219/stan/E2IndPT.stan (deflated 73%)\n",
            "  adding: content/放送大学心理統計17/Astan219/stan/Mu01.stan.new (stored 0%)\n",
            "  adding: content/放送大学心理統計17/Astan219/stan/G1meanPF.rds (deflated 1%)\n",
            "  adding: content/放送大学心理統計17/Astan219/stan/G2pairPT.stan (deflated 52%)\n",
            "  adding: content/放送大学心理統計17/Astan219/stan/Bi02.stan (deflated 48%)\n",
            "  adding: content/放送大学心理統計17/Astan219/stan/Mu02.stan (deflated 62%)\n",
            "  adding: content/放送大学心理統計17/Astan219/stan/G2pairPT.stan.new (deflated 40%)\n",
            "  adding: content/放送大学心理統計17/Astan219/stan/G1meanPT.stan.new (deflated 39%)\n",
            "  adding: content/放送大学心理統計17/Astan219/stan/E1IndPF.stan (deflated 59%)\n",
            "  adding: content/放送大学心理統計17/Astan219/stan/Bi02.stan.new (stored 0%)\n",
            "  adding: content/放送大学心理統計17/Astan219/stan/G2IndPF.stan (deflated 55%)\n",
            "  adding: content/放送大学心理統計17/Astan219/stan/Reg02.stan (deflated 52%)\n",
            "  adding: content/放送大学心理統計17/Astan219/stan/G1meanPF.stan.new (deflated 47%)\n",
            "  adding: content/放送大学心理統計17/Astan219/stan/G2IndPF.stan.new (deflated 29%)\n",
            "  adding: content/放送大学心理統計17/Astan219/stan/Bi03.stan.new (stored 0%)\n",
            "  adding: content/放送大学心理統計17/Astan219/stan/G2pairPF.stan (deflated 52%)\n",
            "  adding: content/放送大学心理統計17/Astan219/stan/Mu01.stan (deflated 42%)\n",
            "  adding: content/放送大学心理統計17/Astan219/stan/E1IndPF.stan.new (stored 0%)\n",
            "  adding: content/放送大学心理統計17/Astan219/stan/Bi01.stan.new (deflated 30%)\n",
            "  adding: content/放送大学心理統計17/Astan219/stan/E1IndPT.stan.new (stored 0%)\n",
            "  adding: content/放送大学心理統計17/Astan219/stan/G2pairPF.stan.new (deflated 40%)\n",
            "  adding: content/放送大学心理統計17/Astan219/stan/E2IndPF.stan.new (stored 0%)\n",
            "  adding: content/放送大学心理統計17/Astan219/stan/E1IndPT.stan (deflated 58%)\n",
            "  adding: content/放送大学心理統計17/Astan219/stan/Reg.stan (deflated 56%)\n",
            "  adding: content/放送大学心理統計17/Astan219/stan/G2IndPT.stan (deflated 54%)\n",
            "  adding: content/放送大学心理統計17/Astan219/stan/Mu02.stan.new (stored 0%)\n",
            "  adding: content/放送大学心理統計17/Astan219/stan/E2IndPT.stan.new (stored 0%)\n",
            "  adding: content/放送大学心理統計17/Astan219/stan/G1meanPT.stan (deflated 47%)\n",
            "  adding: content/放送大学心理統計17/Astan219/stan/E2IndPF.stan (deflated 73%)\n",
            "  adding: content/放送大学心理統計17/Astan219/stan/Bi01.stan (deflated 44%)\n",
            "  adding: content/放送大学心理統計17/Astan219/stan/G2IndPT.stan.new (deflated 29%)\n",
            "  adding: content/放送大学心理統計17/Astan219/動作確認時に生じたトラブルの報告.txt (deflated 49%)\n",
            "  adding: content/放送大学心理統計17/質問返答.pdf.new (stored 0%)\n",
            "  adding: content/放送大学心理統計17/修正対照.pdf (deflated 2%)\n",
            "  adding: content/放送大学心理統計17/修正対照.pdf.new (stored 0%)\n"
          ]
        }
      ]
    },
    {
      "cell_type": "code",
      "source": [
        "from google.colab import files\n",
        "#files.download('ShinriTokei17.zip')"
      ],
      "metadata": {
        "id": "-ZcktVK_dl5x"
      },
      "execution_count": 66,
      "outputs": []
    },
    {
      "cell_type": "markdown",
      "source": [
        "ここから、Rスクリプトを実行してみます。\n"
      ],
      "metadata": {
        "id": "HPgT-fLSjGH8"
      }
    },
    {
      "cell_type": "code",
      "source": [
        "!cd /content/放送大学心理統計17/Astan219"
      ],
      "metadata": {
        "id": "iysKnw5TkfGB"
      },
      "execution_count": 67,
      "outputs": []
    },
    {
      "cell_type": "code",
      "source": [
        "import rpy2\n",
        "%load_ext rpy2.ipython\n"
      ],
      "metadata": {
        "colab": {
          "base_uri": "https://localhost:8080/"
        },
        "id": "ijzJZaxAjLxb",
        "outputId": "0822cbb1-8cb5-4c85-d2dd-5ab8f8af353b"
      },
      "execution_count": 68,
      "outputs": [
        {
          "output_type": "stream",
          "name": "stdout",
          "text": [
            "The rpy2.ipython extension is already loaded. To reload it, use:\n",
            "  %reload_ext rpy2.ipython\n"
          ]
        }
      ]
    },
    {
      "cell_type": "markdown",
      "source": [
        "# 第1章"
      ],
      "metadata": {
        "id": "HnsUHf5cnJva"
      }
    },
    {
      "cell_type": "code",
      "source": [
        "%%R\n",
        "setwd('/content/放送大学心理統計17/Astan219')\n",
        "source(file='scrB/chapter01.R')"
      ],
      "metadata": {
        "colab": {
          "base_uri": "https://localhost:8080/",
          "height": 497
        },
        "id": "dHcNPSA7mpGs",
        "outputId": "a4447db2-654a-430a-ddec-5937eb008219"
      },
      "execution_count": 69,
      "outputs": [
        {
          "output_type": "display_data",
          "data": {
            "image/png": "[encoded data removed]"
          },
          "metadata": {}
        }
      ]
    },
    {
      "cell_type": "markdown",
      "source": [
        "# 第２章"
      ],
      "metadata": {
        "id": "T3EOkjfOnPby"
      }
    },
    {
      "cell_type": "code",
      "source": [
        "%%R\n",
        "setwd('/content/放送大学心理統計17/Astan219')\n",
        "source(file='scrB/chapter02.R')"
      ],
      "metadata": {
        "colab": {
          "base_uri": "https://localhost:8080/",
          "height": 497
        },
        "outputId": "2c1606e0-5385-4339-afdc-07071373a548",
        "id": "QpOpQ-TknUX4"
      },
      "execution_count": 70,
      "outputs": [
        {
          "output_type": "display_data",
          "data": {
            "image/png": "[encoded data removed]"
          },
          "metadata": {}
        }
      ]
    },
    {
      "cell_type": "markdown",
      "source": [
        ""
      ],
      "metadata": {
        "id": "--Gw_H22nd1z"
      }
    },
    {
      "cell_type": "markdown",
      "source": [
        "# 第３章"
      ],
      "metadata": {
        "id": "_TCIkTMQneGS"
      }
    },
    {
      "cell_type": "code",
      "source": [
        "%%R\n",
        "setwd('/content/放送大学心理統計17/Astan219')\n",
        "install.packages('rstan')\n",
        "source(file='scrB/chapter03.R')"
      ],
      "metadata": {
        "colab": {
          "base_uri": "https://localhost:8080/"
        },
        "outputId": "7718614c-1475-4d9b-b654-0e0117c6777f",
        "id": "NjWDFDfInkJT"
      },
      "execution_count": null,
      "outputs": [
        {
          "output_type": "stream",
          "name": "stderr",
          "text": [
            "R[write to console]: Installing package into ‘/usr/local/lib/R/site-library’\n",
            "(as ‘lib’ is unspecified)\n",
            "\n",
            "R[write to console]: trying URL 'https://cran.rstudio.com/src/contrib/rstan_2.21.5.tar.gz'\n",
            "\n",
            "R[write to console]: Content type 'application/x-gzip'\n",
            "R[write to console]:  length 1189130 bytes (1.1 MB)\n",
            "\n",
            "R[write to console]: =\n",
            "R[write to console]: =\n",
            "R[write to console]: =\n",
            "R[write to console]: =\n",
            "R[write to console]: =\n",
            "R[write to console]: =\n",
            "R[write to console]: =\n",
            "R[write to console]: =\n",
            "R[write to console]: =\n",
            "R[write to console]: =\n",
            "R[write to console]: =\n",
            "R[write to console]: =\n",
            "R[write to console]: =\n",
            "R[write to console]: =\n",
            "R[write to console]: =\n",
            "R[write to console]: =\n",
            "R[write to console]: =\n",
            "R[write to console]: =\n",
            "R[write to console]: =\n",
            "R[write to console]: =\n",
            "R[write to console]: =\n",
            "R[write to console]: =\n",
            "R[write to console]: =\n",
            "R[write to console]: =\n",
            "R[write to console]: =\n",
            "R[write to console]: =\n",
            "R[write to console]: =\n",
            "R[write to console]: =\n",
            "R[write to console]: =\n",
            "R[write to console]: =\n",
            "R[write to console]: =\n",
            "R[write to console]: =\n",
            "R[write to console]: =\n",
            "R[write to console]: =\n",
            "R[write to console]: =\n",
            "R[write to console]: =\n",
            "R[write to console]: =\n",
            "R[write to console]: =\n",
            "R[write to console]: =\n",
            "R[write to console]: =\n",
            "R[write to console]: =\n",
            "R[write to console]: =\n",
            "R[write to console]: =\n",
            "R[write to console]: =\n",
            "R[write to console]: =\n",
            "R[write to console]: =\n",
            "R[write to console]: =\n",
            "R[write to console]: =\n",
            "R[write to console]: =\n",
            "R[write to console]: =\n",
            "R[write to console]: \n",
            "\n",
            "R[write to console]: downloaded 1.1 MB\n",
            "\n",
            "\n"
          ]
        }
      ]
    },
    {
      "cell_type": "markdown",
      "source": [
        "# 第４章"
      ],
      "metadata": {
        "id": "AYjpW-QQoF5p"
      }
    },
    {
      "cell_type": "code",
      "source": [
        "%%R\n",
        "setwd('/content/放送大学心理統計17/Astan219')\n",
        "install.packages('rstan')\n",
        "source(file='scrB/chapter04.R')"
      ],
      "metadata": {
        "id": "AjgOoT6woGzH"
      },
      "execution_count": null,
      "outputs": []
    },
    {
      "cell_type": "markdown",
      "source": [
        ""
      ],
      "metadata": {
        "id": "K1aaVNsBoUqv"
      }
    },
    {
      "cell_type": "markdown",
      "source": [
        "# 第５章"
      ],
      "metadata": {
        "id": "wobLZQ_zoVh5"
      }
    },
    {
      "cell_type": "code",
      "source": [
        "%%R\n",
        "setwd('/content/放送大学心理統計17/Astan219')\n",
        "install.packages('rstan')\n",
        "source(file='scrB/chapter05.R')"
      ],
      "metadata": {
        "id": "Tx09skhlocd1"
      },
      "execution_count": null,
      "outputs": []
    },
    {
      "cell_type": "markdown",
      "source": [
        ""
      ],
      "metadata": {
        "id": "UdTDMHljojxu"
      }
    },
    {
      "cell_type": "markdown",
      "source": [
        "# 第７章\n"
      ],
      "metadata": {
        "id": "ha3aLO-iolP4"
      }
    },
    {
      "cell_type": "code",
      "source": [
        "%%R\n",
        "setwd('/content/放送大学心理統計17/Astan219')\n",
        "install.packages('rstan')\n",
        "source(file='scrB/chapter07.R')"
      ],
      "metadata": {
        "id": "HbOEhYBoosc0"
      },
      "execution_count": null,
      "outputs": []
    },
    {
      "cell_type": "markdown",
      "source": [
        "# 第９章\n"
      ],
      "metadata": {
        "id": "HKL3wGSHpGw9"
      }
    },
    {
      "cell_type": "code",
      "source": [
        "%%R\n",
        "setwd('/content/放送大学心理統計17/Astan219')\n",
        "install.packages('rstan')\n",
        "source(file='scrB/chapter09.R')"
      ],
      "metadata": {
        "id": "vP9ITryKpMP7"
      },
      "execution_count": null,
      "outputs": []
    },
    {
      "cell_type": "markdown",
      "source": [
        ""
      ],
      "metadata": {
        "id": "8_Bxa8OnpbWO"
      }
    },
    {
      "cell_type": "markdown",
      "source": [
        "# 第10章\n"
      ],
      "metadata": {
        "id": "Yw5sbtjcpcwc"
      }
    },
    {
      "cell_type": "code",
      "source": [
        "%%R\n",
        "setwd('/content/放送大学心理統計17/Astan219')\n",
        "install.packages('rstan')\n",
        "source(file='scrB/chapter10.R')"
      ],
      "metadata": {
        "id": "fBZZ29cNpg5d"
      },
      "execution_count": null,
      "outputs": []
    },
    {
      "cell_type": "markdown",
      "source": [
        "# 第11章\n"
      ],
      "metadata": {
        "id": "zTYBWo1Ypoxz"
      }
    },
    {
      "cell_type": "code",
      "source": [
        "%%R\n",
        "setwd('/content/放送大学心理統計17/Astan219')\n",
        "install.packages('rstan')\n",
        "source(file='scrB/chapter11.R')"
      ],
      "metadata": {
        "id": "4U4WZd-ppvfB"
      },
      "execution_count": null,
      "outputs": []
    },
    {
      "cell_type": "markdown",
      "source": [
        "# 第12章\n"
      ],
      "metadata": {
        "id": "drxrXrxfp15o"
      }
    },
    {
      "cell_type": "code",
      "source": [
        "%%R\n",
        "setwd('/content/放送大学心理統計17/Astan219')\n",
        "install.packages('rstan')\n",
        "source(file='scrB/chapter12.R')"
      ],
      "metadata": {
        "id": "XqWNSxbnp63m"
      },
      "execution_count": null,
      "outputs": []
    },
    {
      "cell_type": "markdown",
      "source": [
        ""
      ],
      "metadata": {
        "id": "Lzonm-_tp_28"
      }
    },
    {
      "cell_type": "markdown",
      "source": [
        "# 第13章\n"
      ],
      "metadata": {
        "id": "x1DYw6LgqAHK"
      }
    },
    {
      "cell_type": "code",
      "source": [
        "%%R\n",
        "setwd('/content/放送大学心理統計17/Astan219')\n",
        "install.packages('rstan')\n",
        "source(file='scrB/chapter13.R')"
      ],
      "metadata": {
        "id": "MPPn0RGQqFLC"
      },
      "execution_count": null,
      "outputs": []
    },
    {
      "cell_type": "markdown",
      "source": [
        "# 第14章\n"
      ],
      "metadata": {
        "id": "8aU1q6swqLVt"
      }
    },
    {
      "cell_type": "code",
      "source": [
        "%%R\n",
        "setwd('/content/放送大学心理統計17/Astan219')\n",
        "install.packages('rstan')\n",
        "source(file='scrB/chapter14.R')"
      ],
      "metadata": {
        "id": "fp71iU8PqP3p"
      },
      "execution_count": null,
      "outputs": []
    }
  ]
}